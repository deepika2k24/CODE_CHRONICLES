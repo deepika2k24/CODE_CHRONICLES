{
 "cells": [
  {
   "cell_type": "code",
   "execution_count": 1,
   "id": "014f8ac4-8059-434f-8dcd-a58be6635f81",
   "metadata": {},
   "outputs": [
    {
     "name": "stdout",
     "output_type": "stream",
     "text": [
      "Memory used by Python list: 8056\n",
      "Memory used by NumPy array: 4000\n"
     ]
    }
   ],
   "source": [
    "# Memory Efficiency Example\n",
    "import numpy as np\n",
    "import sys\n",
    "\n",
    "# Create a Python list and a NumPy array of same integers\n",
    "py_list = list(range(1000))\n",
    "np_array = np.arange(1000)\n",
    "\n",
    "print(\"Memory used by Python list:\", sys.getsizeof(py_list))\n",
    "print(\"Memory used by NumPy array:\", np_array.nbytes)"
   ]
  },
  {
   "cell_type": "code",
   "execution_count": 2,
   "id": "da0609a5-cd46-4d62-9199-78bd48a5c48a",
   "metadata": {},
   "outputs": [
    {
     "name": "stdout",
     "output_type": "stream",
     "text": [
      "Python list time: 1.6457746028900146\n",
      "NumPy array time: 0.04908275604248047\n"
     ]
    }
   ],
   "source": [
    "#Speed Efficiency Example\n",
    "import time\n",
    "\n",
    "# Create big list and array\n",
    "size = 10_000_000\n",
    "py_list = list(range(size))\n",
    "np_array = np.arange(size)\n",
    "\n",
    "# Multiply each element by 2 using list comprehension\n",
    "start = time.time()\n",
    "py_list = [x*2 for x in py_list]\n",
    "end = time.time()\n",
    "print(\"Python list time:\", end-start)\n",
    "\n",
    "# Multiply each element by 2 using vectorized NumPy\n",
    "start = time.time()\n",
    "np_array = np_array * 2\n",
    "end = time.time()\n",
    "print(\"NumPy array time:\", end-start)"
   ]
  },
  {
   "cell_type": "code",
   "execution_count": 3,
   "id": "77f34848-e817-4fa2-a5a9-5e5ad1cbc2e4",
   "metadata": {},
   "outputs": [
    {
     "name": "stdout",
     "output_type": "stream",
     "text": [
      "List addition: [7, 9, 11, 13, 15]\n",
      "NumPy addition: [ 7  9 11 13 15]\n",
      "List scalar multiply: [2, 4, 6, 8, 10]\n",
      "NumPy scalar multiply: [ 2  4  6  8 10]\n"
     ]
    }
   ],
   "source": [
    "#Element-wise operation\n",
    "\n",
    "# Python list\n",
    "py_list1 = [1, 2, 3, 4, 5]\n",
    "py_list2 = [6, 7, 8, 9, 10]\n",
    "\n",
    "# NumPy arrays\n",
    "np_arr1 = np.array([1, 2, 3, 4, 5])\n",
    "np_arr2 = np.array([6, 7, 8, 9, 10])\n",
    "\n",
    "#LIST\n",
    "# Elementwise addition (needs loop or comprehension)\n",
    "list_add = [x + y for x, y in zip(py_list1, py_list2)]\n",
    "\n",
    "# Scalar multiplication (needs loop)\n",
    "list_mul = [x * 2 for x in py_list1]\n",
    "\n",
    "# NUMPY\n",
    "# Elementwise addition (one line)\n",
    "np_add = np_arr1 + np_arr2\n",
    "\n",
    "# Scalar multiplication (one line)\n",
    "np_mul = np_arr1 * 2\n",
    "\n",
    "print(\"List addition:\", list_add)\n",
    "print(\"NumPy addition:\", np_add)\n",
    "\n",
    "print(\"List scalar multiply:\", list_mul)\n",
    "print(\"NumPy scalar multiply:\", np_mul)"
   ]
  },
  {
   "cell_type": "code",
   "execution_count": 4,
   "id": "468d13ba-2c5a-4d52-a0f6-161ff655db3f",
   "metadata": {},
   "outputs": [
    {
     "name": "stdout",
     "output_type": "stream",
     "text": [
      "Dot product: 130\n",
      "Square roots: [1.         1.41421356 1.73205081 2.         2.23606798]\n",
      "Mean: 3.0\n",
      "Matrix multiplication:\n",
      " [[ 6  7  8  9 10]\n",
      " [12 14 16 18 20]\n",
      " [18 21 24 27 30]\n",
      " [24 28 32 36 40]\n",
      " [30 35 40 45 50]]\n"
     ]
    }
   ],
   "source": [
    "# More NumPy richness\n",
    "print(\"Dot product:\", np.dot(np_arr1, np_arr2))    # Vector dot product\n",
    "print(\"Square roots:\", np.sqrt(np_arr1))           # Elementwise sqrt\n",
    "print(\"Mean:\", np.mean(np_arr1))                   # Average\n",
    " # @ => matrix multiplication operator(introduced in PEP 465, Python 3.5+  or use np.matmul() or np.dot()\n",
    "print(\"Matrix multiplication:\\n\", np_arr1.reshape(5,1) @ np_arr2.reshape(1,5))\n"
   ]
  },
  {
   "cell_type": "code",
   "execution_count": 5,
   "id": "7c0d6ce2-3bfd-45a4-87a0-2c03cc8be102",
   "metadata": {},
   "outputs": [
    {
     "name": "stdout",
     "output_type": "stream",
     "text": [
      "[7, 9, 11, 13, 15]\n"
     ]
    }
   ],
   "source": [
    "# elementwise addtion using list variants 1\n",
    "result = [py_list1[i] + py_list2[i] for i in range(len(py_list1))]\n",
    "print(result)  "
   ]
  },
  {
   "cell_type": "code",
   "execution_count": 6,
   "id": "f751f06f-17a9-41b3-99d8-abff349817e4",
   "metadata": {},
   "outputs": [
    {
     "name": "stdout",
     "output_type": "stream",
     "text": [
      "[7, 9, 11, 13, 15]\n"
     ]
    }
   ],
   "source": [
    "# elementwise addtion using list variants 2\n",
    "result = [py_list1[i] + py_list2[i] for i, _ in enumerate(py_list1)]\n",
    "print(result) "
   ]
  },
  {
   "cell_type": "code",
   "execution_count": 7,
   "id": "ee6d5ca6-42ba-49c2-8c30-89c21dc7d075",
   "metadata": {},
   "outputs": [
    {
     "name": "stdout",
     "output_type": "stream",
     "text": [
      "[7, 9, 11, 13, 15]\n"
     ]
    }
   ],
   "source": [
    "# elementwise addtion using list variants 3\n",
    "result = []\n",
    "for i in range(len(py_list1)):\n",
    "    result.append(py_list1[i] +py_list2[i])\n",
    "\n",
    "print(result) "
   ]
  }
 ],
 "metadata": {
  "kernelspec": {
   "display_name": "base",
   "language": "python",
   "name": "python3"
  },
  "language_info": {
   "codemirror_mode": {
    "name": "ipython",
    "version": 3
   },
   "file_extension": ".py",
   "mimetype": "text/x-python",
   "name": "python",
   "nbconvert_exporter": "python",
   "pygments_lexer": "ipython3",
   "version": "3.12.7"
  }
 },
 "nbformat": 4,
 "nbformat_minor": 5
}
