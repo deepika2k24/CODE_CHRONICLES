{
 "cells": [
  {
   "cell_type": "code",
   "execution_count": 213,
   "id": "fa193f09",
   "metadata": {},
   "outputs": [],
   "source": [
    "import numpy as np\n",
    "import pandas as pd\n"
   ]
  },
  {
   "cell_type": "code",
   "execution_count": 214,
   "id": "4d3b67af",
   "metadata": {},
   "outputs": [
    {
     "name": "stdout",
     "output_type": "stream",
     "text": [
      "NumPy Array:\n",
      " [10 20 30 40]\n",
      "Type: <class 'numpy.ndarray'>\n"
     ]
    }
   ],
   "source": [
    "arr = np.array([10, 20, 30, 40])\n",
    "print(\"NumPy Array:\\n\", arr)\n",
    "print(\"Type:\", type(arr))\n"
   ]
  },
  {
   "cell_type": "code",
   "execution_count": 215,
   "id": "f68aac66",
   "metadata": {},
   "outputs": [
    {
     "name": "stdout",
     "output_type": "stream",
     "text": [
      "\n",
      "Pandas Series:\n",
      " a    10\n",
      "b    20\n",
      "c    30\n",
      "d    40\n",
      "dtype: int64\n",
      "Type: <class 'pandas.core.series.Series'>\n"
     ]
    }
   ],
   "source": [
    "ser = pd.Series([10, 20, 30, 40], index=[\"a\", \"b\", \"c\", \"d\"])\n",
    "print(\"\\nPandas Series:\\n\", ser)\n",
    "print(\"Type:\", type(ser))\n",
    "\n"
   ]
  },
  {
   "cell_type": "code",
   "execution_count": 216,
   "id": "21ceb8e3",
   "metadata": {},
   "outputs": [
    {
     "name": "stdout",
     "output_type": "stream",
     "text": [
      "\n",
      "Pandas DataFrame:\n",
      "       Name  Age  Score\n",
      "0    Alice   25   85.5\n",
      "1      Bob   30   90.3\n",
      "2  Charlie   35   88.0\n",
      "Type: <class 'pandas.core.frame.DataFrame'>\n"
     ]
    }
   ],
   "source": [
    "df = pd.DataFrame({\n",
    "    \"Name\": [\"Alice\", \"Bob\", \"Charlie\"],\n",
    "    \"Age\": [25, 30, 35],\n",
    "    \"Score\": [85.5, 90.3, 88.0]\n",
    "})\n",
    "print(\"\\nPandas DataFrame:\\n\", df)\n",
    "print(\"Type:\", type(df))\n"
   ]
  },
  {
   "cell_type": "code",
   "execution_count": 217,
   "id": "cd72b59d",
   "metadata": {},
   "outputs": [
    {
     "name": "stdout",
     "output_type": "stream",
     "text": [
      "   Numbers\n",
      "0       10\n",
      "1       20\n",
      "2       30\n",
      "3       40\n"
     ]
    }
   ],
   "source": [
    "df = pd.DataFrame(arr.reshape(4, 1), columns=[\"Numbers\"])\n",
    "print(df)"
   ]
  },
  {
   "cell_type": "code",
   "execution_count": 218,
   "id": "7b45acae",
   "metadata": {},
   "outputs": [
    {
     "name": "stdout",
     "output_type": "stream",
     "text": [
      "DataFrame underlying array:\n",
      " [[10]\n",
      " [20]\n",
      " [30]\n",
      " [40]]\n"
     ]
    }
   ],
   "source": [
    "print(\"DataFrame underlying array:\\n\", df.values)"
   ]
  },
  {
   "cell_type": "code",
   "execution_count": 219,
   "id": "382de888",
   "metadata": {},
   "outputs": [
    {
     "name": "stdout",
     "output_type": "stream",
     "text": [
      "     A    B\n",
      "0  1.0  4.0\n"
     ]
    }
   ],
   "source": [
    "df = pd.DataFrame({\"A\": [1, None, 3], \"B\": [4, 5, None]})\n",
    "cleaned_df = df.dropna()\n",
    "print(cleaned_df)"
   ]
  },
  {
   "cell_type": "code",
   "execution_count": 220,
   "id": "f38e6eb5",
   "metadata": {},
   "outputs": [
    {
     "data": {
      "image/png": "[encoded data removed]",
      "text/plain": [
       "<Figure size 640x480 with 1 Axes>"
      ]
     },
     "metadata": {},
     "output_type": "display_data"
    }
   ],
   "source": [
    "import matplotlib.pyplot as plt\n",
    "plt.plot([1, 2, 3], [4, 5, 1])\n",
    "plt.show()"
   ]
  },
  {
   "cell_type": "code",
   "execution_count": 221,
   "id": "a031e3ef",
   "metadata": {},
   "outputs": [
    {
     "name": "stdout",
     "output_type": "stream",
     "text": [
      "Mean: 75.66666666666667\n"
     ]
    }
   ],
   "source": [
    "import numpy as np\n",
    "arr = np.random.randint(1, 101, 15)\n",
    "filtered = arr[arr > 50]\n",
    "mean_val = filtered.mean()\n",
    "print(\"Mean:\", mean_val)"
   ]
  },
  {
   "cell_type": "code",
   "execution_count": 222,
   "id": "f8f6fa14",
   "metadata": {},
   "outputs": [
    {
     "name": "stdout",
     "output_type": "stream",
     "text": [
      "Region\n",
      "East     250\n",
      "North    500\n",
      "South    250\n",
      "Name: Sales, dtype: int64\n"
     ]
    }
   ],
   "source": [
    "df = pd.DataFrame({\n",
    "    \"Region\": [\"North\", \"South\", \"North\", \"East\", \"South\"],\n",
    "    \"Sales\": [200, 150, 300, 250, 100]\n",
    "})\n",
    "result = df.groupby(\"Region\")[\"Sales\"].sum()\n",
    "print(result)"
   ]
  },
  {
   "cell_type": "code",
   "execution_count": 223,
   "id": "f1b8c2bd",
   "metadata": {},
   "outputs": [
    {
     "name": "stdout",
     "output_type": "stream",
     "text": [
      "  Product  Sales_Q1  Sales_Q2  Sales_Q3  Sales_Q4  Total_Sales\n",
      "0       A       100       300       200       400         1000\n",
      "1       B       200       250       300       350         1100\n",
      "2       C       150       400       250       300         1100\n"
     ]
    }
   ],
   "source": [
    "import pandas as pd\n",
    "\n",
    "# Create DataFrame\n",
    "df = pd.DataFrame({\n",
    "    \"Product\": [\"A\", \"B\", \"C\"],\n",
    "    \"Sales_Q1\": [100, 200, 150],\n",
    "    \"Sales_Q2\": [300, 250, 400],\n",
    "    \"Sales_Q3\": [200, 300, 250],\n",
    "    \"Sales_Q4\": [400, 350, 300]\n",
    "})\n",
    "\n",
    "# Add total sales column (axis=1 for row-wise operation)\n",
    "df[\"Total_Sales\"] = df[[\"Sales_Q1\", \"Sales_Q2\", \"Sales_Q3\", \"Sales_Q4\"]].sum(axis=1)\n",
    "print(df)"
   ]
  },
  {
   "cell_type": "code",
   "execution_count": 224,
   "id": "9651337f",
   "metadata": {},
   "outputs": [
    {
     "name": "stdout",
     "output_type": "stream",
     "text": [
      "Original: [ 1  2  3  4  5  6  7  8  9 10 11 12 13 14 15 16 17 18 19 20]\n",
      "Doubled:  [ 2  4  6  8 10 12 14 16 18 20 22 24 26 28 30 32 34 36 38 40]\n"
     ]
    }
   ],
   "source": [
    "import numpy as np\n",
    "\n",
    "arr = np.arange(1, 21)  # [1, 2, 3, ..., 20]\n",
    "doubled = arr * 2\n",
    "\n",
    "print(\"Original:\", arr)\n",
    "print(\"Doubled: \", doubled)"
   ]
  },
  {
   "cell_type": "code",
   "execution_count": 225,
   "id": "dccf2930",
   "metadata": {},
   "outputs": [
    {
     "name": "stdout",
     "output_type": "stream",
     "text": [
      "      Name  Age\n",
      "0    Alice   25\n",
      "2  Charlie   28\n",
      "3    Diana   29\n"
     ]
    }
   ],
   "source": [
    "df = pd.DataFrame({\n",
    "    \"Name\": [\"Alice\", \"Bob\", \"Charlie\", \"Diana\"],\n",
    "    \"Gender\": [\"F\", \"M\", \"M\", \"F\"],\n",
    "    \"Age\": [25, 32, 28, 29],\n",
    "    \"Department\": [\"CSE\", \"ECE\", \"CSE\", \"CSE\"]\n",
    "})\n",
    "\n",
    "filtered = df[(df[\"Age\"] < 30) & (df[\"Department\"] == \"CSE\")]\n",
    "print(filtered[[\"Name\", \"Age\"]])"
   ]
  },
  {
   "cell_type": "code",
   "execution_count": 226,
   "id": "6a378226",
   "metadata": {},
   "outputs": [
    {
     "name": "stdout",
     "output_type": "stream",
     "text": [
      "  Product  Price  Quantity  Total_Revenue\n",
      "0       X     10         5             50\n",
      "1       Y     15         3             45\n",
      "2       Z     20         2             40\n"
     ]
    }
   ],
   "source": [
    "df = pd.DataFrame({\n",
    "    \"Product\": [\"X\", \"Y\", \"Z\"],\n",
    "    \"Price\": [10, 15, 20],\n",
    "    \"Quantity\": [5, 3, 2]\n",
    "})\n",
    "\n",
    "df[\"Total_Revenue\"] = df[\"Price\"] * df[\"Quantity\"]\n",
    "print(df)"
   ]
  },
  {
   "cell_type": "code",
   "execution_count": 227,
   "id": "b0c9287e",
   "metadata": {},
   "outputs": [
    {
     "name": "stdout",
     "output_type": "stream",
     "text": [
      "Groupby result:\n",
      "          Temperature  Humidity\n",
      "City                          \n",
      "Chennai         35.0      80.0\n",
      "Delhi           29.0      62.5\n",
      "Mumbai          32.5      72.5\n",
      "Pivot table result:\n",
      "          Humidity  Temperature\n",
      "City                          \n",
      "Chennai      80.0         35.0\n",
      "Delhi        62.5         29.0\n",
      "Mumbai       72.5         32.5\n"
     ]
    }
   ],
   "source": [
    "df = pd.DataFrame({\n",
    "    \"City\": [\"Delhi\", \"Mumbai\", \"Delhi\", \"Mumbai\", \"Chennai\"],\n",
    "    \"Temperature\": [30, 32, 28, 33, 35],\n",
    "    \"Humidity\": [60, 70, 65, 75, 80],\n",
    "    \"Wind Speed\": [10, 12, 8, 15, 9]\n",
    "})\n",
    "\n",
    "# Method 1: groupby()\n",
    "grouped = df.groupby(\"City\")[[\"Temperature\", \"Humidity\"]].mean()\n",
    "print(\"Groupby result:\\n\", grouped)\n",
    "\n",
    "# Method 2: pivot_table()\n",
    "pivoted = df.pivot_table(index=\"City\", values=[\"Temperature\", \"Humidity\"], aggfunc=\"mean\")\n",
    "print(\"Pivot table result:\\n\", pivoted)"
   ]
  },
  {
   "cell_type": "code",
   "execution_count": 228,
   "id": "5514fead",
   "metadata": {},
   "outputs": [
    {
     "name": "stdout",
     "output_type": "stream",
     "text": [
      "Subject\n",
      "Math       88\n",
      "Science    92\n",
      "Name: Marks, dtype: int64\n"
     ]
    }
   ],
   "source": [
    "df = pd.DataFrame({\n",
    "    \"Student\": [\"A\", \"B\", \"C\", \"D\", \"E\"],\n",
    "    \"Subject\": [\"Math\", \"Science\", \"Math\", \"Science\", \"Math\"],\n",
    "    \"Marks\": [85, 90, 78, 92, 88]\n",
    "})\n",
    "\n",
    "max_marks = df.groupby(\"Subject\")[\"Marks\"].max()\n",
    "print(max_marks)"
   ]
  },
  {
   "cell_type": "code",
   "execution_count": 229,
   "id": "660fffce",
   "metadata": {},
   "outputs": [
    {
     "name": "stdout",
     "output_type": "stream",
     "text": [
      "  Country  Mortality_Rate\n",
      "3      UK             7.0\n"
     ]
    }
   ],
   "source": [
    "df = pd.DataFrame({\n",
    "    \"Country\": [\"USA\", \"India\", \"Brazil\", \"UK\"],\n",
    "    \"Cases\": [5000000, 3000000, 2000000, 1000000],\n",
    "    \"Deaths\": [150000, 60000, 80000, 70000],\n",
    "    \"Recovered\": [4800000, 2900000, 1900000, 900000]\n",
    "})\n",
    "\n",
    "df[\"Mortality_Rate\"] = (df[\"Deaths\"] / df[\"Cases\"]) * 100\n",
    "high_mortality = df[df[\"Mortality_Rate\"] > 5]\n",
    "print(high_mortality[[\"Country\", \"Mortality_Rate\"]])"
   ]
  },
  {
   "cell_type": "code",
   "execution_count": 230,
   "id": "25f37840",
   "metadata": {},
   "outputs": [
    {
     "name": "stdout",
     "output_type": "stream",
     "text": [
      "Array:\n",
      " [[10 11 12 13 14]\n",
      " [15 16 17 18 19]\n",
      " [20 21 22 23 24]\n",
      " [25 26 27 28 29]]\n",
      "Column sums: [70 74 78 82 86]\n",
      "Row sums: [ 60  85 110 135]\n"
     ]
    }
   ],
   "source": [
    "arr = np.arange(10, 30).reshape(4, 5)\n",
    "print(\"Array:\\n\", arr)\n",
    "\n",
    "col_sum = np.sum(arr, axis=0)  # Sum of each column\n",
    "row_sum = np.sum(arr, axis=1)  # Sum of each row\n",
    "\n",
    "print(\"Column sums:\", col_sum)\n",
    "print(\"Row sums:\", row_sum)"
   ]
  },
  {
   "cell_type": "code",
   "execution_count": 231,
   "id": "7e9e5b3a",
   "metadata": {},
   "outputs": [
    {
     "name": "stdout",
     "output_type": "stream",
     "text": [
      "Array:\n",
      " [[15 19 13]\n",
      " [12 11  8]\n",
      " [ 6 13 15]]\n",
      "Min values per row: [13  8  6]\n"
     ]
    }
   ],
   "source": [
    "arr = np.random.randint(5, 21, size=(3, 3))\n",
    "min_vals = np.min(arr, axis=1)\n",
    "\n",
    "print(\"Array:\\n\", arr)\n",
    "print(\"Min values per row:\", min_vals)"
   ]
  },
  {
   "cell_type": "code",
   "execution_count": 232,
   "id": "7364651a",
   "metadata": {},
   "outputs": [
    {
     "name": "stdout",
     "output_type": "stream",
     "text": [
      "Array: [0.         0.55555556 1.11111111 1.66666667 2.22222222 2.77777778\n",
      " 3.33333333 3.88888889 4.44444444 5.        ]\n",
      "Mean: 2.5\n",
      "Standard Deviation: 1.5957118462605635\n"
     ]
    }
   ],
   "source": [
    "arr = np.linspace(0, 5, 10)\n",
    "mean_val = np.mean(arr)\n",
    "std_val = np.std(arr)\n",
    "\n",
    "print(\"Array:\", arr)\n",
    "print(\"Mean:\", mean_val)\n",
    "print(\"Standard Deviation:\", std_val)"
   ]
  },
  {
   "cell_type": "code",
   "execution_count": 233,
   "id": "3db3b4e6",
   "metadata": {},
   "outputs": [
    {
     "name": "stdout",
     "output_type": "stream",
     "text": [
      "Identity matrix:\n",
      " [[1. 0. 0.]\n",
      " [0. 1. 0.]\n",
      " [0. 0. 1.]]\n",
      "Random matrix:\n",
      " [[6 2 3]\n",
      " [7 2 8]\n",
      " [9 5 1]]\n",
      "Element-wise multiplication:\n",
      " [[6. 0. 0.]\n",
      " [0. 2. 0.]\n",
      " [0. 0. 1.]]\n"
     ]
    }
   ],
   "source": [
    "identity = np.eye(3)\n",
    "random_matrix = np.random.randint(1, 10, size=(3, 3))\n",
    "result = identity * random_matrix\n",
    "\n",
    "print(\"Identity matrix:\\n\", identity)\n",
    "print(\"Random matrix:\\n\", random_matrix)\n",
    "print(\"Element-wise multiplication:\\n\", result)"
   ]
  },
  {
   "cell_type": "code",
   "execution_count": 234,
   "id": "da802aa4",
   "metadata": {},
   "outputs": [
    {
     "name": "stdout",
     "output_type": "stream",
     "text": [
      "Original array: [0.31810802 0.98043715 0.80832868 0.97319245 0.85381554 0.27214198\n",
      " 0.15424257 0.71406141 0.20839167 0.48575274]\n",
      "Filtered array: [0.98043715 0.80832868 0.97319245 0.85381554 0.71406141]\n",
      "Count: 5\n"
     ]
    }
   ],
   "source": [
    "arr = np.random.random(10)\n",
    "filtered = arr[arr > 0.5]\n",
    "count = len(filtered)\n",
    "\n",
    "print(\"Original array:\", arr)\n",
    "print(\"Filtered array:\", filtered)\n",
    "print(\"Count:\", count)"
   ]
  },
  {
   "cell_type": "code",
   "execution_count": 235,
   "id": "fc7a8462",
   "metadata": {},
   "outputs": [
    {
     "name": "stdout",
     "output_type": "stream",
     "text": [
      "Array:\n",
      " [[ 0.70574552 -0.50014607  0.34118411  0.74274946  0.12975041]\n",
      " [-1.52641171 -0.99285201 -1.14744554  0.65447964 -0.12543266]\n",
      " [-0.35610692 -1.10977318 -0.47380138 -1.18535259  0.80616732]\n",
      " [-0.46023358 -1.37471166 -0.3977223   0.79693064 -0.64460327]\n",
      " [ 0.47622599  0.41880711  0.68906257  1.53739905  1.23233345]]\n",
      "Column variances: [0.62478907 0.39997891 0.41900028 0.81742844 0.44512644]\n"
     ]
    }
   ],
   "source": [
    "arr = np.random.normal(0, 1, size=(5, 5))\n",
    "col_variance = np.var(arr, axis=0)\n",
    "\n",
    "print(\"Array:\\n\", arr)\n",
    "print(\"Column variances:\", col_variance)"
   ]
  },
  {
   "cell_type": "code",
   "execution_count": 236,
   "id": "0900c5c2",
   "metadata": {},
   "outputs": [
    {
     "name": "stdout",
     "output_type": "stream",
     "text": [
      "Array:\n",
      " [[ 5 12  8]\n",
      " [15  7 20]\n",
      " [ 9 14 11]]\n",
      "Sum of elements > 10 per column: [15 26 31]\n"
     ]
    }
   ],
   "source": [
    "# Create 2D array from list of lists\n",
    "data = [[5, 12, 8], [15, 7, 20], [9, 14, 11]]\n",
    "arr = np.array(data)\n",
    "\n",
    "# Sum of elements > 10 in each column\n",
    "sum_gt_10 = np.sum(arr * (arr > 10), axis=0)\n",
    "\n",
    "print(\"Array:\\n\", arr)\n",
    "print(\"Sum of elements > 10 per column:\", sum_gt_10)"
   ]
  },
  {
   "cell_type": "code",
   "execution_count": 237,
   "id": "99d1c385",
   "metadata": {},
   "outputs": [
    {
     "name": "stdout",
     "output_type": "stream",
     "text": [
      "Original:\n",
      "              Population\n",
      "State1 2000      100000\n",
      "       2010      120000\n",
      "State2 2000       80000\n",
      "       2010       95000\n",
      "\n",
      "After unstack():\n",
      "        Population        \n",
      "             2000    2010\n",
      "State1     100000  120000\n",
      "State2      80000   95000\n"
     ]
    }
   ],
   "source": [
    "# Create MultiIndex DataFrame\n",
    "index = pd.MultiIndex.from_tuples([('State1', 2000), ('State1', 2010),\n",
    "                                  ('State2', 2000), ('State2', 2010)])\n",
    "df = pd.DataFrame({'Population': [100000, 120000, 80000, 95000]}, index=index)\n",
    "\n",
    "# Unstack the year level\n",
    "unstacked = df.unstack(level=1)\n",
    "print(\"Original:\\n\", df)\n",
    "print(\"\\nAfter unstack():\\n\", unstacked)"
   ]
  },
  {
   "cell_type": "code",
   "execution_count": 238,
   "id": "3141e46c",
   "metadata": {},
   "outputs": [
    {
     "name": "stdout",
     "output_type": "stream",
     "text": [
      "With duplicates:\n",
      "            values\n",
      "index_col        \n",
      "A              10\n",
      "A              20\n",
      "B              30\n",
      "B              40\n",
      "C              50\n",
      "\n",
      "After grouping and summing:\n",
      "            values\n",
      "index_col        \n",
      "A              30\n",
      "B              70\n",
      "C              50\n"
     ]
    }
   ],
   "source": [
    "df = pd.DataFrame({\n",
    "    'index_col': ['A', 'A', 'B', 'B', 'C'],\n",
    "    'values': [10, 20, 30, 40, 50]\n",
    "}).set_index('index_col')\n",
    "\n",
    "# Resolve duplicates by summing\n",
    "resolved = df.groupby(level=0).sum()\n",
    "print(\"With duplicates:\\n\", df)\n",
    "print(\"\\nAfter grouping and summing:\\n\", resolved)"
   ]
  },
  {
   "cell_type": "code",
   "execution_count": 239,
   "id": "e1f4263a",
   "metadata": {},
   "outputs": [
    {
     "name": "stdout",
     "output_type": "stream",
     "text": [
      "     0    1\n",
      "a  1.0  NaN\n",
      "b  2.0  4.0\n",
      "c  3.0  5.0\n",
      "d  NaN  6.0\n"
     ]
    }
   ],
   "source": [
    "s1 = pd.Series([1, 2, 3], index=['a', 'b', 'c'])\n",
    "s2 = pd.Series([4, 5, 6], index=['b', 'c', 'd'])\n",
    "\n",
    "result = pd.concat([s1, s2], axis=1)\n",
    "print(result)"
   ]
  },
  {
   "cell_type": "code",
   "execution_count": 240,
   "id": "52b723e2",
   "metadata": {},
   "outputs": [
    {
     "name": "stdout",
     "output_type": "stream",
     "text": [
      "0    1\n",
      "1    2\n",
      "2    3\n",
      "3    4\n",
      "4    5\n",
      "5    6\n",
      "6    7\n",
      "7    8\n",
      "8    9\n",
      "dtype: int64\n"
     ]
    }
   ],
   "source": [
    "s1 = pd.Series([1, 2, 3])\n",
    "s2 = pd.Series([4, 5, 6])\n",
    "s3 = pd.Series([7, 8, 9])\n",
    "\n",
    "result = pd.concat([s1, s2, s3], ignore_index=True)\n",
    "print(result)"
   ]
  },
  {
   "cell_type": "code",
   "execution_count": 241,
   "id": "2b9bdad5",
   "metadata": {},
   "outputs": [
    {
     "name": "stdout",
     "output_type": "stream",
     "text": [
      "Row means (axis=1):\n",
      " Patient1  Visit1    96.866667\n",
      "          Visit2    94.800000\n",
      "Patient2  Visit1    99.600000\n",
      "          Visit2    96.900000\n",
      "dtype: float64\n",
      "\n",
      "Column means (axis=0):\n",
      " Heart_Rate         71.250\n",
      "Blood_Pressure    121.250\n",
      "Temperature        98.625\n",
      "dtype: float64\n"
     ]
    }
   ],
   "source": [
    "# Create sample health data\n",
    "index = pd.MultiIndex.from_tuples([('Patient1', 'Visit1'), ('Patient1', 'Visit2'),\n",
    "                                  ('Patient2', 'Visit1'), ('Patient2', 'Visit2')])\n",
    "df = pd.DataFrame({\n",
    "    'Heart_Rate': [72, 68, 75, 70],\n",
    "    'Blood_Pressure': [120, 118, 125, 122],\n",
    "    'Temperature': [98.6, 98.4, 98.8, 98.7]\n",
    "}, index=index)\n",
    "\n",
    "print(\"Row means (axis=1):\\n\", df.mean(axis=1))\n",
    "print(\"\\nColumn means (axis=0):\\n\", df.mean(axis=0))"
   ]
  },
  {
   "cell_type": "code",
   "execution_count": 242,
   "id": "2ceaafe1",
   "metadata": {},
   "outputs": [
    {
     "name": "stdout",
     "output_type": "stream",
     "text": [
      "Value at index 'c': 0.75\n"
     ]
    }
   ],
   "source": [
    "series = pd.Series([0.25, 0.5, 0.75, 1.0], index=['a', 'b', 'c', 'd'])\n",
    "print(\"Value at index 'c':\", series['c'])"
   ]
  },
  {
   "cell_type": "code",
   "execution_count": 243,
   "id": "3fb0ff47",
   "metadata": {},
   "outputs": [
    {
     "name": "stdout",
     "output_type": "stream",
     "text": [
      "Array: [43 31 37 85 87 11 53 28 76 83 70 97 64 77 94 80 19 48 35 64]\n",
      "75th percentile: 80.75\n"
     ]
    }
   ],
   "source": [
    "arr = np.random.randint(10, 101, 20)\n",
    "percentile_75 = np.percentile(arr, 75)\n",
    "\n",
    "print(\"Array:\", arr)\n",
    "print(\"75th percentile:\", percentile_75)"
   ]
  },
  {
   "cell_type": "code",
   "execution_count": 244,
   "id": "4ec3e34f",
   "metadata": {},
   "outputs": [
    {
     "name": "stdout",
     "output_type": "stream",
     "text": [
      "Array:\n",
      " [[ 1  2  3  4]\n",
      " [ 5  6  7  8]\n",
      " [ 9 10 11 12]\n",
      " [13 14 15 16]]\n",
      "All elements < 25: True\n"
     ]
    }
   ],
   "source": [
    "arr = np.arange(1, 17).reshape(4, 4)\n",
    "all_less_than_25 = np.all(arr < 25)\n",
    "\n",
    "print(\"Array:\\n\", arr)\n",
    "print(\"All elements < 25:\", all_less_than_25)"
   ]
  },
  {
   "cell_type": "code",
   "execution_count": 245,
   "id": "a481d2c9",
   "metadata": {},
   "outputs": [
    {
     "name": "stdout",
     "output_type": "stream",
     "text": [
      "Array:\n",
      " [[ 1  2  3  4  5]\n",
      " [ 6  7  8  9 10]\n",
      " [11 12 13 14 15]]\n",
      "Median of each row: [ 3.  8. 13.]\n"
     ]
    }
   ],
   "source": [
    "arr = np.arange(1, 16).reshape(3, 5)\n",
    "row_medians = np.median(arr, axis=1)\n",
    "\n",
    "print(\"Array:\\n\", arr)\n",
    "print(\"Median of each row:\", row_medians)"
   ]
  },
  {
   "cell_type": "code",
   "execution_count": 246,
   "id": "36daaca5",
   "metadata": {},
   "outputs": [
    {
     "name": "stdout",
     "output_type": "stream",
     "text": [
      "Array:\n",
      " [[ 5 12  8]\n",
      " [15  7 20]\n",
      " [ 9 14 11]\n",
      " [ 3 18  6]]\n",
      "Sum of elements > 10 per row: [12 35 25 18]\n"
     ]
    }
   ],
   "source": [
    "# Create 2D array from list of lists\n",
    "data = [[5, 12, 8], [15, 7, 20], [9, 14, 11], [3, 18, 6]]\n",
    "arr = np.array(data)\n",
    "\n",
    "# Sum of elements > 10 in each row\n",
    "sum_gt_10 = np.sum(arr * (arr > 10), axis=1)\n",
    "\n",
    "print(\"Array:\\n\", arr)\n",
    "print(\"Sum of elements > 10 per row:\", sum_gt_10)"
   ]
  },
  {
   "cell_type": "code",
   "execution_count": 247,
   "id": "fb9368ab",
   "metadata": {},
   "outputs": [
    {
     "name": "stdout",
     "output_type": "stream",
     "text": [
      "Array:\n",
      " [[-0.04441589 -0.48363237 -0.11586814  0.99476732  1.36201023]\n",
      " [-1.14177291  0.35283879 -0.90199681 -0.04798145 -0.61683193]\n",
      " [ 0.02886944  1.15461472 -0.44458086 -1.19735369 -0.46356603]\n",
      " [-0.24148531 -0.10598476 -0.09655952 -0.31471609  1.23072391]\n",
      " [-1.41017782 -0.55863448 -0.81631191  0.00513797 -1.10569767]]\n",
      "Column variances: [0.35505834 0.39780614 0.11438766 0.492368   1.03092494]\n"
     ]
    }
   ],
   "source": [
    "import numpy as np\n",
    "import pandas as pd\n",
    "\n",
    "arr = np.random.normal(0, 1, size=(5, 5))\n",
    "col_variance = np.var(arr, axis=0)\n",
    "\n",
    "print(\"Array:\\n\", arr)\n",
    "print(\"Column variances:\", col_variance)"
   ]
  },
  {
   "cell_type": "code",
   "execution_count": 248,
   "id": "1a85c4b0",
   "metadata": {},
   "outputs": [
    {
     "name": "stdout",
     "output_type": "stream",
     "text": [
      "Array:\n",
      " [[ 5 12  8]\n",
      " [15  7 20]\n",
      " [ 9 14 11]]\n",
      "Sum of elements > 10 per column: [15 26 31]\n"
     ]
    }
   ],
   "source": [
    "# Create 2D array from list of lists\n",
    "data = [[5, 12, 8], [15, 7, 20], [9, 14, 11]]\n",
    "arr = np.array(data)\n",
    "\n",
    "# Sum of elements > 10 in each column\n",
    "sum_gt_10 = np.sum(arr * (arr > 10), axis=0)\n",
    "\n",
    "print(\"Array:\\n\", arr)\n",
    "print(\"Sum of elements > 10 per column:\", sum_gt_10)"
   ]
  },
  {
   "cell_type": "code",
   "execution_count": 249,
   "id": "1292bb85",
   "metadata": {},
   "outputs": [
    {
     "name": "stdout",
     "output_type": "stream",
     "text": [
      "Array:\n",
      " [[-0.31881619  0.02784931  0.21700545 -0.8053112  -0.88880831]\n",
      " [-1.58520473 -0.65537738  0.81369996  0.6586972   1.13814118]\n",
      " [ 0.47851577  0.42186333  0.68810443  1.35137404 -0.02221619]\n",
      " [-2.76205395 -0.52786363  0.20708407  0.7739716   3.10336347]\n",
      " [ 0.24545168  1.21600763 -0.90112803 -1.04862566  0.0044989 ]]\n",
      "Column variances: [1.4849283  0.46380421 0.36551464 0.88684966 1.89846143]\n"
     ]
    }
   ],
   "source": [
    "arr = np.random.normal(0, 1, size=(5, 5))\n",
    "col_variance = np.var(arr, axis=0)\n",
    "\n",
    "print(\"Array:\\n\", arr)\n",
    "print(\"Column variances:\", col_variance)"
   ]
  },
  {
   "cell_type": "code",
   "execution_count": 250,
   "id": "b7671d8b",
   "metadata": {},
   "outputs": [
    {
     "name": "stdout",
     "output_type": "stream",
     "text": [
      "Original array: [0.25711299 0.65116189 0.05734554 0.00810252 0.60597374 0.15785775\n",
      " 0.58808247 0.75056096 0.86912954 0.36964542]\n",
      "Filtered array: [0.65116189 0.60597374 0.58808247 0.75056096 0.86912954]\n",
      "Count: 5\n"
     ]
    }
   ],
   "source": [
    "arr = np.random.random(10)\n",
    "filtered = arr[arr > 0.5]\n",
    "count = len(filtered)\n",
    "\n",
    "print(\"Original array:\", arr)\n",
    "print(\"Filtered array:\", filtered)\n",
    "print(\"Count:\", count)"
   ]
  },
  {
   "cell_type": "code",
   "execution_count": 251,
   "id": "a86da569",
   "metadata": {},
   "outputs": [
    {
     "name": "stdout",
     "output_type": "stream",
     "text": [
      "Identity matrix:\n",
      " [[1. 0. 0.]\n",
      " [0. 1. 0.]\n",
      " [0. 0. 1.]]\n",
      "Random matrix:\n",
      " [[3 1 4]\n",
      " [6 1 6]\n",
      " [3 7 3]]\n",
      "Element-wise multiplication:\n",
      " [[3. 0. 0.]\n",
      " [0. 1. 0.]\n",
      " [0. 0. 3.]]\n"
     ]
    }
   ],
   "source": [
    "identity = np.eye(3)\n",
    "random_matrix = np.random.randint(1, 10, size=(3, 3))\n",
    "result = identity * random_matrix\n",
    "\n",
    "print(\"Identity matrix:\\n\", identity)\n",
    "print(\"Random matrix:\\n\", random_matrix)\n",
    "print(\"Element-wise multiplication:\\n\", result)"
   ]
  },
  {
   "cell_type": "code",
   "execution_count": 252,
   "id": "e73ed929",
   "metadata": {},
   "outputs": [
    {
     "name": "stdout",
     "output_type": "stream",
     "text": [
      "Array:\n",
      " [[20 18 11]\n",
      " [19 14 18]\n",
      " [ 7 16 10]]\n",
      "Min values per row: [11 14  7]\n"
     ]
    }
   ],
   "source": [
    "arr = np.random.randint(5, 21, size=(3, 3))\n",
    "min_vals = np.min(arr, axis=1)\n",
    "\n",
    "print(\"Array:\\n\", arr)\n",
    "print(\"Min values per row:\", min_vals)"
   ]
  },
  {
   "cell_type": "code",
   "execution_count": 253,
   "id": "5d669f21",
   "metadata": {},
   "outputs": [
    {
     "name": "stdout",
     "output_type": "stream",
     "text": [
      "Array:\n",
      " [[10 11 12 13 14]\n",
      " [15 16 17 18 19]\n",
      " [20 21 22 23 24]\n",
      " [25 26 27 28 29]]\n",
      "Column sums: [70 74 78 82 86]\n",
      "Row sums: [ 60  85 110 135]\n"
     ]
    }
   ],
   "source": [
    "arr = np.arange(10, 30).reshape(4, 5)\n",
    "print(\"Array:\\n\", arr)\n",
    "\n",
    "col_sum = np.sum(arr, axis=0)  # Sum of each column\n",
    "row_sum = np.sum(arr, axis=1)  # Sum of each row\n",
    "\n",
    "print(\"Column sums:\", col_sum)\n",
    "print(\"Row sums:\", row_sum)"
   ]
  },
  {
   "cell_type": "code",
   "execution_count": 254,
   "id": "53913493",
   "metadata": {},
   "outputs": [
    {
     "name": "stdout",
     "output_type": "stream",
     "text": [
      "  Country  Mortality_Rate\n",
      "3      UK             7.0\n"
     ]
    }
   ],
   "source": [
    "df = pd.DataFrame({\n",
    "    \"Country\": [\"USA\", \"India\", \"Brazil\", \"UK\"],\n",
    "    \"Cases\": [5000000, 3000000, 2000000, 1000000],\n",
    "    \"Deaths\": [150000, 60000, 80000, 70000],\n",
    "    \"Recovered\": [4800000, 2900000, 1900000, 900000]\n",
    "})\n",
    "\n",
    "df[\"Mortality_Rate\"] = (df[\"Deaths\"] / df[\"Cases\"]) * 100\n",
    "high_mortality = df[df[\"Mortality_Rate\"] > 5]\n",
    "print(high_mortality[[\"Country\", \"Mortality_Rate\"]])"
   ]
  },
  {
   "cell_type": "code",
   "execution_count": 255,
   "id": "d2b2ce7c",
   "metadata": {},
   "outputs": [
    {
     "data": {
      "text/html": [
       "<div>\n",
       "<style scoped>\n",
       "    .dataframe tbody tr th:only-of-type {\n",
       "        vertical-align: middle;\n",
       "    }\n",
       "\n",
       "    .dataframe tbody tr th {\n",
       "        vertical-align: top;\n",
       "    }\n",
       "\n",
       "    .dataframe thead th {\n",
       "        text-align: right;\n",
       "    }\n",
       "</style>\n",
       "<table border=\"1\" class=\"dataframe\">\n",
       "  <thead>\n",
       "    <tr style=\"text-align: right;\">\n",
       "      <th></th>\n",
       "      <th>country</th>\n",
       "      <th>population</th>\n",
       "      <th>area</th>\n",
       "      <th>density</th>\n",
       "    </tr>\n",
       "  </thead>\n",
       "  <tbody>\n",
       "    <tr>\n",
       "      <th>0</th>\n",
       "      <td>india</td>\n",
       "      <td>200</td>\n",
       "      <td>100</td>\n",
       "      <td>2.000000</td>\n",
       "    </tr>\n",
       "    <tr>\n",
       "      <th>1</th>\n",
       "      <td>usa</td>\n",
       "      <td>300</td>\n",
       "      <td>200</td>\n",
       "      <td>1.500000</td>\n",
       "    </tr>\n",
       "    <tr>\n",
       "      <th>2</th>\n",
       "      <td>bhutan</td>\n",
       "      <td>500</td>\n",
       "      <td>300</td>\n",
       "      <td>1.666667</td>\n",
       "    </tr>\n",
       "    <tr>\n",
       "      <th>3</th>\n",
       "      <td>uk</td>\n",
       "      <td>400</td>\n",
       "      <td>400</td>\n",
       "      <td>1.000000</td>\n",
       "    </tr>\n",
       "    <tr>\n",
       "      <th>4</th>\n",
       "      <td>france</td>\n",
       "      <td>600</td>\n",
       "      <td>500</td>\n",
       "      <td>1.200000</td>\n",
       "    </tr>\n",
       "  </tbody>\n",
       "</table>\n",
       "</div>"
      ],
      "text/plain": [
       "  country  population  area   density\n",
       "0   india         200   100  2.000000\n",
       "1     usa         300   200  1.500000\n",
       "2  bhutan         500   300  1.666667\n",
       "3      uk         400   400  1.000000\n",
       "4  france         600   500  1.200000"
      ]
     },
     "execution_count": 255,
     "metadata": {},
     "output_type": "execute_result"
    }
   ],
   "source": [
    "country_dict={\"country\":['india','usa','bhutan','uk','france'],\n",
    "              \"population\":[200,300,500,400,600],\n",
    "              \"area\":[100,200,300,400,500]}\n",
    "df=pd.DataFrame(country_dict)\n",
    "#print(df)\n",
    "#print(df.index)\n",
    "#print(df.columns)\n",
    "df['density']=df['population']/df['area']\n",
    "\n",
    "df#dictionary of list therefore by default index is assigned as 0,1,2/...."
   ]
  },
  {
   "cell_type": "code",
   "execution_count": 256,
   "id": "2a0d42b1",
   "metadata": {},
   "outputs": [
    {
     "data": {
      "text/html": [
       "<div>\n",
       "<style scoped>\n",
       "    .dataframe tbody tr th:only-of-type {\n",
       "        vertical-align: middle;\n",
       "    }\n",
       "\n",
       "    .dataframe tbody tr th {\n",
       "        vertical-align: top;\n",
       "    }\n",
       "\n",
       "    .dataframe thead th {\n",
       "        text-align: right;\n",
       "    }\n",
       "</style>\n",
       "<table border=\"1\" class=\"dataframe\">\n",
       "  <thead>\n",
       "    <tr style=\"text-align: right;\">\n",
       "      <th></th>\n",
       "      <th>country</th>\n",
       "      <th>population</th>\n",
       "      <th>area</th>\n",
       "    </tr>\n",
       "  </thead>\n",
       "  <tbody>\n",
       "    <tr>\n",
       "      <th>0</th>\n",
       "      <td>india</td>\n",
       "      <td>200</td>\n",
       "      <td>100</td>\n",
       "    </tr>\n",
       "    <tr>\n",
       "      <th>1</th>\n",
       "      <td>usa</td>\n",
       "      <td>300</td>\n",
       "      <td>200</td>\n",
       "    </tr>\n",
       "    <tr>\n",
       "      <th>2</th>\n",
       "      <td>bhutan</td>\n",
       "      <td>500</td>\n",
       "      <td>300</td>\n",
       "    </tr>\n",
       "  </tbody>\n",
       "</table>\n",
       "</div>"
      ],
      "text/plain": [
       "  country  population  area\n",
       "0   india         200   100\n",
       "1     usa         300   200\n",
       "2  bhutan         500   300"
      ]
     },
     "execution_count": 256,
     "metadata": {},
     "output_type": "execute_result"
    }
   ],
   "source": [
    "df.iloc[:3,:3]#🔹 1. Implicit Indexing\n",
    "#Implicit indexing refers to accessing elements by their integer position (like 0, 1, 2…).\n",
    "#In Pandas, iloc is used for implicit indexing."
   ]
  },
  {
   "cell_type": "code",
   "execution_count": 257,
   "id": "9e04c8e9",
   "metadata": {},
   "outputs": [
    {
     "name": "stdout",
     "output_type": "stream",
     "text": [
      "300\n"
     ]
    }
   ],
   "source": [
    "print(df.loc[1,\"population\"])"
   ]
  },
  {
   "cell_type": "code",
   "execution_count": 258,
   "id": "deb4789e",
   "metadata": {},
   "outputs": [
    {
     "name": "stdout",
     "output_type": "stream",
     "text": [
      "300\n",
      "1.0\n",
      "population    300\n",
      "area          200\n",
      "Name: 1, dtype: object\n"
     ]
    }
   ],
   "source": [
    "print(df.loc[1, \"population\"])  # population of USA → 300\n",
    "print(df.loc[3, \"density\"])     # density of France → 1.2\n",
    "print(df.loc[1, [\"population\", \"area\"]])\n"
   ]
  },
  {
   "cell_type": "code",
   "execution_count": 259,
   "id": "d8e3d325",
   "metadata": {},
   "outputs": [
    {
     "name": "stdout",
     "output_type": "stream",
     "text": [
      "         population  area   density\n",
      "country                            \n",
      "india           200   100  2.000000\n",
      "usa             300   200  1.500000\n",
      "bhutan          500   300  1.666667\n",
      "uk              400   400  1.000000\n",
      "france          600   500  1.200000\n"
     ]
    }
   ],
   "source": [
    "df = df.set_index('country')  # sets the country column as the index\n",
    "print(df)\n"
   ]
  },
  {
   "cell_type": "code",
   "execution_count": 260,
   "id": "70f3225a",
   "metadata": {},
   "outputs": [
    {
     "name": "stdout",
     "output_type": "stream",
     "text": [
      "400\n"
     ]
    }
   ],
   "source": [
    "print(df.loc['uk','area'])"
   ]
  },
  {
   "cell_type": "code",
   "execution_count": 261,
   "id": "3e168f3d",
   "metadata": {},
   "outputs": [
    {
     "data": {
      "text/html": [
       "<div>\n",
       "<style scoped>\n",
       "    .dataframe tbody tr th:only-of-type {\n",
       "        vertical-align: middle;\n",
       "    }\n",
       "\n",
       "    .dataframe tbody tr th {\n",
       "        vertical-align: top;\n",
       "    }\n",
       "\n",
       "    .dataframe thead th {\n",
       "        text-align: right;\n",
       "    }\n",
       "</style>\n",
       "<table border=\"1\" class=\"dataframe\">\n",
       "  <thead>\n",
       "    <tr style=\"text-align: right;\">\n",
       "      <th></th>\n",
       "      <th>population</th>\n",
       "      <th>density</th>\n",
       "    </tr>\n",
       "    <tr>\n",
       "      <th>country</th>\n",
       "      <th></th>\n",
       "      <th></th>\n",
       "    </tr>\n",
       "  </thead>\n",
       "  <tbody>\n",
       "    <tr>\n",
       "      <th>india</th>\n",
       "      <td>200</td>\n",
       "      <td>2.000000</td>\n",
       "    </tr>\n",
       "    <tr>\n",
       "      <th>usa</th>\n",
       "      <td>300</td>\n",
       "      <td>1.500000</td>\n",
       "    </tr>\n",
       "    <tr>\n",
       "      <th>bhutan</th>\n",
       "      <td>500</td>\n",
       "      <td>1.666667</td>\n",
       "    </tr>\n",
       "    <tr>\n",
       "      <th>france</th>\n",
       "      <td>600</td>\n",
       "      <td>1.200000</td>\n",
       "    </tr>\n",
       "  </tbody>\n",
       "</table>\n",
       "</div>"
      ],
      "text/plain": [
       "         population   density\n",
       "country                      \n",
       "india           200  2.000000\n",
       "usa             300  1.500000\n",
       "bhutan          500  1.666667\n",
       "france          600  1.200000"
      ]
     },
     "execution_count": 261,
     "metadata": {},
     "output_type": "execute_result"
    }
   ],
   "source": [
    "df.loc[df.density > 1, ['population', 'density']]"
   ]
  },
  {
   "cell_type": "code",
   "execution_count": 262,
   "id": "635ba006",
   "metadata": {},
   "outputs": [
    {
     "name": "stdout",
     "output_type": "stream",
     "text": [
      "            Population    Area President\n",
      "California    38332521  423967     gavin\n",
      "Texas         26448193  695662   deepika\n",
      "New York      19651127  141297     siddu\n",
      "Florida       19552860  170312  siddaram\n",
      "Illinois      12882135  149995     deepi\n"
     ]
    }
   ],
   "source": [
    "import pandas as pd\n",
    "\n",
    "# Series for each attribute\n",
    "population_dict = {'California': 38332521, 'Texas': 26448193, 'New York': 19651127,\n",
    "                   'Florida': 19552860, 'Illinois': 12882135}\n",
    "population = pd.Series(population_dict)\n",
    "\n",
    "area_dict = {'California': 423967, 'Texas': 695662, 'New York': 141297,\n",
    "             'Florida': 170312, 'Illinois': 149995}\n",
    "area = pd.Series(area_dict)\n",
    "\n",
    "president_dict = {'California':'gavin', 'Texas':'deepika', 'New York':'siddu',\n",
    "                  'Florida':'siddaram', 'Illinois':'deepi'}\n",
    "president = pd.Series(president_dict)\n",
    "\n",
    "# Combine into DataFrame\n",
    "states = pd.DataFrame({'Population': population, 'Area': area, 'President': president})\n",
    "\n",
    "print(states)#You created three Series from dictionaries:\n"
   ]
  },
  {
   "cell_type": "code",
   "execution_count": 263,
   "id": "6bf54324",
   "metadata": {},
   "outputs": [
    {
     "data": {
      "text/html": [
       "<div>\n",
       "<style scoped>\n",
       "    .dataframe tbody tr th:only-of-type {\n",
       "        vertical-align: middle;\n",
       "    }\n",
       "\n",
       "    .dataframe tbody tr th {\n",
       "        vertical-align: top;\n",
       "    }\n",
       "\n",
       "    .dataframe thead th {\n",
       "        text-align: right;\n",
       "    }\n",
       "</style>\n",
       "<table border=\"1\" class=\"dataframe\">\n",
       "  <thead>\n",
       "    <tr style=\"text-align: right;\">\n",
       "      <th></th>\n",
       "      <th>pop</th>\n",
       "      <th>Area</th>\n",
       "      <th>President</th>\n",
       "    </tr>\n",
       "  </thead>\n",
       "  <tbody>\n",
       "    <tr>\n",
       "      <th>California</th>\n",
       "      <td>38332521</td>\n",
       "      <td>423967</td>\n",
       "      <td>gavin</td>\n",
       "    </tr>\n",
       "    <tr>\n",
       "      <th>Texas</th>\n",
       "      <td>26448193</td>\n",
       "      <td>695662</td>\n",
       "      <td>deepika</td>\n",
       "    </tr>\n",
       "    <tr>\n",
       "      <th>New York</th>\n",
       "      <td>19651127</td>\n",
       "      <td>141297</td>\n",
       "      <td>siddu</td>\n",
       "    </tr>\n",
       "    <tr>\n",
       "      <th>Florida</th>\n",
       "      <td>19552860</td>\n",
       "      <td>170312</td>\n",
       "      <td>siddaram</td>\n",
       "    </tr>\n",
       "    <tr>\n",
       "      <th>Illinois</th>\n",
       "      <td>12882135</td>\n",
       "      <td>149995</td>\n",
       "      <td>deepi</td>\n",
       "    </tr>\n",
       "  </tbody>\n",
       "</table>\n",
       "</div>"
      ],
      "text/plain": [
       "                 pop    Area President\n",
       "California  38332521  423967     gavin\n",
       "Texas       26448193  695662   deepika\n",
       "New York    19651127  141297     siddu\n",
       "Florida     19552860  170312  siddaram\n",
       "Illinois    12882135  149995     deepi"
      ]
     },
     "execution_count": 263,
     "metadata": {},
     "output_type": "execute_result"
    }
   ],
   "source": [
    "states.rename(columns={'Population': 'pop'}, inplace=True)\n",
    "states"
   ]
  },
  {
   "cell_type": "code",
   "execution_count": 264,
   "id": "9a3a643a",
   "metadata": {},
   "outputs": [
    {
     "data": {
      "text/plain": [
       "False"
      ]
     },
     "execution_count": 264,
     "metadata": {},
     "output_type": "execute_result"
    }
   ],
   "source": [
    "#the DataFrame has a pop() method, so data.pop will point to this rather than the \"pop\" column:\n",
    "states.pop is states['pop']"
   ]
  },
  {
   "cell_type": "code",
   "execution_count": 265,
   "id": "41a4d183",
   "metadata": {},
   "outputs": [
    {
     "data": {
      "text/html": [
       "<div>\n",
       "<style scoped>\n",
       "    .dataframe tbody tr th:only-of-type {\n",
       "        vertical-align: middle;\n",
       "    }\n",
       "\n",
       "    .dataframe tbody tr th {\n",
       "        vertical-align: top;\n",
       "    }\n",
       "\n",
       "    .dataframe thead th {\n",
       "        text-align: right;\n",
       "    }\n",
       "</style>\n",
       "<table border=\"1\" class=\"dataframe\">\n",
       "  <thead>\n",
       "    <tr style=\"text-align: right;\">\n",
       "      <th></th>\n",
       "      <th>pop</th>\n",
       "      <th>Area</th>\n",
       "    </tr>\n",
       "  </thead>\n",
       "  <tbody>\n",
       "    <tr>\n",
       "      <th>California</th>\n",
       "      <td>38332521</td>\n",
       "      <td>423967</td>\n",
       "    </tr>\n",
       "    <tr>\n",
       "      <th>Texas</th>\n",
       "      <td>26448193</td>\n",
       "      <td>695662</td>\n",
       "    </tr>\n",
       "    <tr>\n",
       "      <th>New York</th>\n",
       "      <td>19651127</td>\n",
       "      <td>141297</td>\n",
       "    </tr>\n",
       "  </tbody>\n",
       "</table>\n",
       "</div>"
      ],
      "text/plain": [
       "                 pop    Area\n",
       "California  38332521  423967\n",
       "Texas       26448193  695662\n",
       "New York    19651127  141297"
      ]
     },
     "execution_count": 265,
     "metadata": {},
     "output_type": "execute_result"
    }
   ],
   "source": [
    "states.iloc[:3,:2]"
   ]
  },
  {
   "cell_type": "code",
   "execution_count": 266,
   "id": "5e87fd5a",
   "metadata": {},
   "outputs": [
    {
     "data": {
      "text/plain": [
       "12882135"
      ]
     },
     "execution_count": 266,
     "metadata": {},
     "output_type": "execute_result"
    }
   ],
   "source": [
    "states.loc['Illinois','pop']"
   ]
  },
  {
   "cell_type": "code",
   "execution_count": 267,
   "id": "01a31310",
   "metadata": {},
   "outputs": [
    {
     "data": {
      "text/html": [
       "<div>\n",
       "<style scoped>\n",
       "    .dataframe tbody tr th:only-of-type {\n",
       "        vertical-align: middle;\n",
       "    }\n",
       "\n",
       "    .dataframe tbody tr th {\n",
       "        vertical-align: top;\n",
       "    }\n",
       "\n",
       "    .dataframe thead th {\n",
       "        text-align: right;\n",
       "    }\n",
       "</style>\n",
       "<table border=\"1\" class=\"dataframe\">\n",
       "  <thead>\n",
       "    <tr style=\"text-align: right;\">\n",
       "      <th></th>\n",
       "      <th>pop</th>\n",
       "      <th>Area</th>\n",
       "      <th>President</th>\n",
       "    </tr>\n",
       "  </thead>\n",
       "  <tbody>\n",
       "    <tr>\n",
       "      <th>California</th>\n",
       "      <td>38332521</td>\n",
       "      <td>423967</td>\n",
       "      <td>mallikarjun</td>\n",
       "    </tr>\n",
       "    <tr>\n",
       "      <th>Texas</th>\n",
       "      <td>26448193</td>\n",
       "      <td>695662</td>\n",
       "      <td>deepika</td>\n",
       "    </tr>\n",
       "    <tr>\n",
       "      <th>New York</th>\n",
       "      <td>19651127</td>\n",
       "      <td>141297</td>\n",
       "      <td>siddu</td>\n",
       "    </tr>\n",
       "    <tr>\n",
       "      <th>Florida</th>\n",
       "      <td>19552860</td>\n",
       "      <td>170312</td>\n",
       "      <td>siddaram</td>\n",
       "    </tr>\n",
       "    <tr>\n",
       "      <th>Illinois</th>\n",
       "      <td>12882135</td>\n",
       "      <td>149995</td>\n",
       "      <td>deepi</td>\n",
       "    </tr>\n",
       "  </tbody>\n",
       "</table>\n",
       "</div>"
      ],
      "text/plain": [
       "                 pop    Area    President\n",
       "California  38332521  423967  mallikarjun\n",
       "Texas       26448193  695662      deepika\n",
       "New York    19651127  141297        siddu\n",
       "Florida     19552860  170312     siddaram\n",
       "Illinois    12882135  149995        deepi"
      ]
     },
     "execution_count": 267,
     "metadata": {},
     "output_type": "execute_result"
    }
   ],
   "source": [
    "#indexing  may also be used to set or modify values\n",
    "states.iloc[0, 2] = \"mallikarjun\"\n",
    "states"
   ]
  },
  {
   "cell_type": "code",
   "execution_count": 268,
   "id": "a4e07a9f",
   "metadata": {},
   "outputs": [
    {
     "data": {
      "text/html": [
       "<div>\n",
       "<style scoped>\n",
       "    .dataframe tbody tr th:only-of-type {\n",
       "        vertical-align: middle;\n",
       "    }\n",
       "\n",
       "    .dataframe tbody tr th {\n",
       "        vertical-align: top;\n",
       "    }\n",
       "\n",
       "    .dataframe thead th {\n",
       "        text-align: right;\n",
       "    }\n",
       "</style>\n",
       "<table border=\"1\" class=\"dataframe\">\n",
       "  <thead>\n",
       "    <tr style=\"text-align: right;\">\n",
       "      <th></th>\n",
       "      <th>pop</th>\n",
       "      <th>President</th>\n",
       "    </tr>\n",
       "  </thead>\n",
       "  <tbody>\n",
       "    <tr>\n",
       "      <th>California</th>\n",
       "      <td>38332521</td>\n",
       "      <td>mallikarjun</td>\n",
       "    </tr>\n",
       "    <tr>\n",
       "      <th>Texas</th>\n",
       "      <td>26448193</td>\n",
       "      <td>deepika</td>\n",
       "    </tr>\n",
       "    <tr>\n",
       "      <th>New York</th>\n",
       "      <td>19651127</td>\n",
       "      <td>siddu</td>\n",
       "    </tr>\n",
       "    <tr>\n",
       "      <th>Florida</th>\n",
       "      <td>19552860</td>\n",
       "      <td>siddaram</td>\n",
       "    </tr>\n",
       "    <tr>\n",
       "      <th>Illinois</th>\n",
       "      <td>12882135</td>\n",
       "      <td>deepi</td>\n",
       "    </tr>\n",
       "  </tbody>\n",
       "</table>\n",
       "</div>"
      ],
      "text/plain": [
       "                 pop    President\n",
       "California  38332521  mallikarjun\n",
       "Texas       26448193      deepika\n",
       "New York    19651127        siddu\n",
       "Florida     19552860     siddaram\n",
       "Illinois    12882135        deepi"
      ]
     },
     "execution_count": 268,
     "metadata": {},
     "output_type": "execute_result"
    }
   ],
   "source": [
    "states.loc[states.Area > 40000, ['pop', 'President']]"
   ]
  },
  {
   "cell_type": "code",
   "execution_count": 269,
   "id": "47ed71df",
   "metadata": {},
   "outputs": [
    {
     "name": "stdout",
     "output_type": "stream",
     "text": [
      "0        1\n",
      "1      NaN\n",
      "2    hello\n",
      "3     None\n",
      "dtype: object\n"
     ]
    }
   ],
   "source": [
    "import pandas as pd\n",
    "import numpy as np\n",
    "\n",
    "data = pd.Series([1, np.nan, 'hello', None])\n",
    "print(data)\n"
   ]
  },
  {
   "cell_type": "code",
   "execution_count": 270,
   "id": "ca0211ef",
   "metadata": {},
   "outputs": [
    {
     "data": {
      "text/plain": [
       "0     True\n",
       "1    False\n",
       "2     True\n",
       "3    False\n",
       "dtype: bool"
      ]
     },
     "execution_count": 270,
     "metadata": {},
     "output_type": "execute_result"
    }
   ],
   "source": [
    "data.notnull()"
   ]
  },
  {
   "cell_type": "code",
   "execution_count": 271,
   "id": "49e074c0",
   "metadata": {},
   "outputs": [
    {
     "data": {
      "text/plain": [
       "True"
      ]
     },
     "execution_count": 271,
     "metadata": {},
     "output_type": "execute_result"
    }
   ],
   "source": [
    "data.notnull().any()#It returns True if at least one value is True."
   ]
  },
  {
   "cell_type": "code",
   "execution_count": 272,
   "id": "e2ce33f1",
   "metadata": {},
   "outputs": [
    {
     "data": {
      "text/plain": [
       "0        1\n",
       "2    hello\n",
       "dtype: object"
      ]
     },
     "execution_count": 272,
     "metadata": {},
     "output_type": "execute_result"
    }
   ],
   "source": [
    "#Boolean masks can be used directly as a Series or DataFrame index:\n",
    "data[data.notnull()]"
   ]
  },
  {
   "cell_type": "code",
   "execution_count": 273,
   "id": "cec0201c",
   "metadata": {},
   "outputs": [
    {
     "name": "stdout",
     "output_type": "stream",
     "text": [
      "0    False\n",
      "1     True\n",
      "2    False\n",
      "3     True\n",
      "dtype: bool\n",
      "0     True\n",
      "1    False\n",
      "2     True\n",
      "3    False\n",
      "dtype: bool\n"
     ]
    }
   ],
   "source": [
    "import pandas as pd\n",
    "import numpy as np\n",
    "\n",
    "s = pd.Series([1, np.nan, 'hello', None])\n",
    "\n",
    "print(s.isnull())   # True for missing\n",
    "print(s.notnull())  # True for non-missing\n"
   ]
  },
  {
   "cell_type": "code",
   "execution_count": 274,
   "id": "024d5645",
   "metadata": {},
   "outputs": [
    {
     "data": {
      "text/plain": [
       "0        1\n",
       "2    hello\n",
       "dtype: object"
      ]
     },
     "execution_count": 274,
     "metadata": {},
     "output_type": "execute_result"
    }
   ],
   "source": [
    "s.dropna()\n",
    "# Removes NaN and None\n"
   ]
  },
  {
   "cell_type": "code",
   "execution_count": 275,
   "id": "6c1862b4",
   "metadata": {},
   "outputs": [
    {
     "data": {
      "text/html": [
       "<div>\n",
       "<style scoped>\n",
       "    .dataframe tbody tr th:only-of-type {\n",
       "        vertical-align: middle;\n",
       "    }\n",
       "\n",
       "    .dataframe tbody tr th {\n",
       "        vertical-align: top;\n",
       "    }\n",
       "\n",
       "    .dataframe thead th {\n",
       "        text-align: right;\n",
       "    }\n",
       "</style>\n",
       "<table border=\"1\" class=\"dataframe\">\n",
       "  <thead>\n",
       "    <tr style=\"text-align: right;\">\n",
       "      <th></th>\n",
       "    </tr>\n",
       "  </thead>\n",
       "  <tbody>\n",
       "    <tr>\n",
       "      <th>0</th>\n",
       "    </tr>\n",
       "    <tr>\n",
       "      <th>1</th>\n",
       "    </tr>\n",
       "    <tr>\n",
       "      <th>2</th>\n",
       "    </tr>\n",
       "  </tbody>\n",
       "</table>\n",
       "</div>"
      ],
      "text/plain": [
       "Empty DataFrame\n",
       "Columns: []\n",
       "Index: [0, 1, 2]"
      ]
     },
     "execution_count": 275,
     "metadata": {},
     "output_type": "execute_result"
    }
   ],
   "source": [
    "df = pd.DataFrame({\n",
    "    \"A\": [1, 2, np.nan],\n",
    "    \"B\": [np.nan, 5, 6]\n",
    "})\n",
    "\n",
    "df.dropna()        # drop rows with ANY NaN\n",
    "df.dropna(axis=1)  # drop columns with ANY NaN\n"
   ]
  },
  {
   "cell_type": "code",
   "execution_count": 276,
   "id": "9ca48a80",
   "metadata": {},
   "outputs": [
    {
     "name": "stderr",
     "output_type": "stream",
     "text": [
      "C:\\Users\\deepl\\AppData\\Local\\Temp\\ipykernel_7176\\3501878761.py:3: FutureWarning: Series.fillna with 'method' is deprecated and will raise in a future version. Use obj.ffill() or obj.bfill() instead.\n",
      "  s.fillna(method=\"ffill\")  # forward fill\n",
      "C:\\Users\\deepl\\AppData\\Local\\Temp\\ipykernel_7176\\3501878761.py:4: FutureWarning: Series.fillna with 'method' is deprecated and will raise in a future version. Use obj.ffill() or obj.bfill() instead.\n",
      "  s.fillna(method=\"bfill\")  # backward fill\n"
     ]
    },
    {
     "data": {
      "text/plain": [
       "0        1\n",
       "1    hello\n",
       "2    hello\n",
       "3     None\n",
       "dtype: object"
      ]
     },
     "execution_count": 276,
     "metadata": {},
     "output_type": "execute_result"
    }
   ],
   "source": [
    "s.fillna(0)        # replace with 0\n",
    "s.fillna(\"unknown\") \n",
    "s.fillna(method=\"ffill\")  # forward fill\n",
    "s.fillna(method=\"bfill\")  # backward fill\n"
   ]
  },
  {
   "cell_type": "code",
   "execution_count": 277,
   "id": "ead799aa",
   "metadata": {},
   "outputs": [
    {
     "data": {
      "text/plain": [
       "0    1.0\n",
       "1    2.0\n",
       "2    1.5\n",
       "Name: A, dtype: float64"
      ]
     },
     "execution_count": 277,
     "metadata": {},
     "output_type": "execute_result"
    }
   ],
   "source": [
    "df.fillna(0)                     # all NaNs → 0\n",
    "df['A'].fillna(df['A'].mean())   # fill with column mean\n"
   ]
  },
  {
   "cell_type": "code",
   "execution_count": 278,
   "id": "3dcb8c43",
   "metadata": {},
   "outputs": [],
   "source": [
    "s.replace(np.nan, \"MISSING\", inplace=True)\n"
   ]
  },
  {
   "cell_type": "code",
   "execution_count": 279,
   "id": "0121f9ce",
   "metadata": {},
   "outputs": [
    {
     "data": {
      "text/plain": [
       "0    1.0\n",
       "1    2.0\n",
       "2    2.0\n",
       "Name: A, dtype: float64"
      ]
     },
     "execution_count": 279,
     "metadata": {},
     "output_type": "execute_result"
    }
   ],
   "source": [
    "df['A'].interpolate()\n"
   ]
  },
  {
   "cell_type": "code",
   "execution_count": 280,
   "id": "15712cd9",
   "metadata": {},
   "outputs": [
    {
     "name": "stdout",
     "output_type": "stream",
     "text": [
      "<class 'pandas.core.frame.DataFrame'>\n",
      "RangeIndex: 3 entries, 0 to 2\n",
      "Data columns (total 2 columns):\n",
      " #   Column  Non-Null Count  Dtype  \n",
      "---  ------  --------------  -----  \n",
      " 0   A       2 non-null      float64\n",
      " 1   B       2 non-null      float64\n",
      "dtypes: float64(2)\n",
      "memory usage: 180.0 bytes\n"
     ]
    }
   ],
   "source": [
    "df.isnull().sum()   # count missing per column\n",
    "df.info()           # quick overview\n"
   ]
  },
  {
   "cell_type": "code",
   "execution_count": 281,
   "id": "2a6210d9",
   "metadata": {},
   "outputs": [
    {
     "name": "stdout",
     "output_type": "stream",
     "text": [
      "Original DF:\n",
      "   Country  Population  Area\n",
      "0   India         200   100\n",
      "1     USA         300   200\n",
      "2  France         600   500\n",
      "\n",
      "After set_index:\n",
      "          Population  Area\n",
      "Country                  \n",
      "India           200   100\n",
      "USA             300   200\n",
      "France          600   500\n"
     ]
    }
   ],
   "source": [
    "import pandas as pd\n",
    "\n",
    "df = pd.DataFrame({\n",
    "    \"Country\": [\"India\", \"USA\", \"France\"],\n",
    "    \"Population\": [200, 300, 600],\n",
    "    \"Area\": [100, 200, 500]\n",
    "})\n",
    "\n",
    "print(\"Original DF:\\n\", df)\n",
    "\n",
    "# Set \"Country\" as index\n",
    "df2 = df.set_index(\"Country\")\n",
    "print(\"\\nAfter set_index:\\n\", df2)\n"
   ]
  },
  {
   "cell_type": "code",
   "execution_count": 282,
   "id": "4b6ddd40",
   "metadata": {},
   "outputs": [
    {
     "data": {
      "text/html": [
       "<div>\n",
       "<style scoped>\n",
       "    .dataframe tbody tr th:only-of-type {\n",
       "        vertical-align: middle;\n",
       "    }\n",
       "\n",
       "    .dataframe tbody tr th {\n",
       "        vertical-align: top;\n",
       "    }\n",
       "\n",
       "    .dataframe thead th {\n",
       "        text-align: right;\n",
       "    }\n",
       "</style>\n",
       "<table border=\"1\" class=\"dataframe\">\n",
       "  <thead>\n",
       "    <tr style=\"text-align: right;\">\n",
       "      <th></th>\n",
       "      <th></th>\n",
       "      <th>Population</th>\n",
       "    </tr>\n",
       "    <tr>\n",
       "      <th>Country</th>\n",
       "      <th>Area</th>\n",
       "      <th></th>\n",
       "    </tr>\n",
       "  </thead>\n",
       "  <tbody>\n",
       "    <tr>\n",
       "      <th>India</th>\n",
       "      <th>100</th>\n",
       "      <td>200</td>\n",
       "    </tr>\n",
       "    <tr>\n",
       "      <th>USA</th>\n",
       "      <th>200</th>\n",
       "      <td>300</td>\n",
       "    </tr>\n",
       "    <tr>\n",
       "      <th>France</th>\n",
       "      <th>500</th>\n",
       "      <td>600</td>\n",
       "    </tr>\n",
       "  </tbody>\n",
       "</table>\n",
       "</div>"
      ],
      "text/plain": [
       "              Population\n",
       "Country Area            \n",
       "India   100          200\n",
       "USA     200          300\n",
       "France  500          600"
      ]
     },
     "execution_count": 282,
     "metadata": {},
     "output_type": "execute_result"
    }
   ],
   "source": [
    "df.set_index([\"Country\", \"Area\"])\n"
   ]
  },
  {
   "cell_type": "code",
   "execution_count": 283,
   "id": "75f5c4a0",
   "metadata": {},
   "outputs": [
    {
     "name": "stdout",
     "output_type": "stream",
     "text": [
      "  Country  Population  Area\n",
      "0   India         200   100\n",
      "1     USA         300   200\n",
      "2  France         600   500\n"
     ]
    }
   ],
   "source": [
    "df3 = df2.reset_index()\n",
    "print(df3)\n"
   ]
  },
  {
   "cell_type": "code",
   "execution_count": 284,
   "id": "b2f8db90",
   "metadata": {},
   "outputs": [
    {
     "data": {
      "text/html": [
       "<div>\n",
       "<style scoped>\n",
       "    .dataframe tbody tr th:only-of-type {\n",
       "        vertical-align: middle;\n",
       "    }\n",
       "\n",
       "    .dataframe tbody tr th {\n",
       "        vertical-align: top;\n",
       "    }\n",
       "\n",
       "    .dataframe thead th {\n",
       "        text-align: right;\n",
       "    }\n",
       "</style>\n",
       "<table border=\"1\" class=\"dataframe\">\n",
       "  <thead>\n",
       "    <tr style=\"text-align: right;\">\n",
       "      <th></th>\n",
       "      <th>Population</th>\n",
       "      <th>Area</th>\n",
       "    </tr>\n",
       "  </thead>\n",
       "  <tbody>\n",
       "    <tr>\n",
       "      <th>0</th>\n",
       "      <td>200</td>\n",
       "      <td>100</td>\n",
       "    </tr>\n",
       "    <tr>\n",
       "      <th>1</th>\n",
       "      <td>300</td>\n",
       "      <td>200</td>\n",
       "    </tr>\n",
       "    <tr>\n",
       "      <th>2</th>\n",
       "      <td>600</td>\n",
       "      <td>500</td>\n",
       "    </tr>\n",
       "  </tbody>\n",
       "</table>\n",
       "</div>"
      ],
      "text/plain": [
       "   Population  Area\n",
       "0         200   100\n",
       "1         300   200\n",
       "2         600   500"
      ]
     },
     "execution_count": 284,
     "metadata": {},
     "output_type": "execute_result"
    }
   ],
   "source": [
    "df2.reset_index(drop=True)\n"
   ]
  },
  {
   "cell_type": "code",
   "execution_count": 285,
   "id": "81e3efd4",
   "metadata": {},
   "outputs": [
    {
     "name": "stdout",
     "output_type": "stream",
     "text": [
      "Population    300\n",
      "Area          200\n",
      "Name: USA, dtype: int64\n",
      "  Country  Population  Area\n",
      "0   India         200   100\n",
      "1     USA         300   200\n",
      "2  France         600   500\n"
     ]
    }
   ],
   "source": [
    "# Suppose you often look up by Country\n",
    "df_country = df.set_index(\"Country\")\n",
    "\n",
    "print(df_country.loc[\"USA\"])   # direct access by name\n",
    "\n",
    "# Later you want to treat Country as data again\n",
    "df_reset = df_country.reset_index()\n",
    "print(df_reset)\n"
   ]
  },
  {
   "cell_type": "code",
   "execution_count": 286,
   "id": "2ba5b300",
   "metadata": {},
   "outputs": [
    {
     "name": "stdout",
     "output_type": "stream",
     "text": [
      "Temperature Data (7 days × 5 sensors):\n",
      "[[25.3 26.1 24.8 25.9 26.5]\n",
      " [26.2 25.8 27.1 26.3 25.6]\n",
      " [24.9 25.5 26.2 25.1 24.8]\n",
      " [27.1 26.8 25.9 26.7 27.3]\n",
      " [25.8 26.4 25.2 26.1 25.9]\n",
      " [26.5 25.7 26.9 26.2 26.8]\n",
      " [25.1 24.9 25.8 25.3 25.6]]\n",
      "\n",
      "Average Temperature for Each Sensor:\n",
      "Sensor 1: 25.84°C\n",
      "Sensor 2: 25.89°C\n",
      "Sensor 3: 25.99°C\n",
      "Sensor 4: 25.94°C\n",
      "Sensor 5: 26.07°C\n",
      "\n",
      "Overall Average Temperature: 25.95°C\n",
      "Highest Daily Average: 26.76°C\n",
      "Lowest Daily Average: 25.30°C\n"
     ]
    }
   ],
   "source": [
    "import numpy as np\n",
    "\n",
    "# Create sample temperature data for 7 days, 5 sensors\n",
    "# Each row represents a day, each column represents a sensor\n",
    "temperature_data = np.array([\n",
    "    [25.3, 26.1, 24.8, 25.9, 26.5],  # Day 1\n",
    "    [26.2, 25.8, 27.1, 26.3, 25.6],  # Day 2\n",
    "    [24.9, 25.5, 26.2, 25.1, 24.8],  # Day 3\n",
    "    [27.1, 26.8, 25.9, 26.7, 27.3],  # Day 4\n",
    "    [25.8, 26.4, 25.2, 26.1, 25.9],  # Day 5\n",
    "    [26.5, 25.7, 26.9, 26.2, 26.8],  # Day 6\n",
    "    [25.1, 24.9, 25.8, 25.3, 25.6]   # Day 7\n",
    "])\n",
    "\n",
    "# Calculate average temperature for each sensor (column-wise average)\n",
    "average_temperatures = np.mean(temperature_data, axis=0)\n",
    "\n",
    "print(\"Temperature Data (7 days × 5 sensors):\")\n",
    "print(temperature_data)\n",
    "print(\"\\nAverage Temperature for Each Sensor:\")\n",
    "for i, avg_temp in enumerate(average_temperatures):\n",
    "    print(f\"Sensor {i+1}: {avg_temp:.2f}°C\")\n",
    "\n",
    "# Additional analysis\n",
    "print(f\"\\nOverall Average Temperature: {np.mean(temperature_data):.2f}°C\")\n",
    "print(f\"Highest Daily Average: {np.max(np.mean(temperature_data, axis=1)):.2f}°C\")\n",
    "print(f\"Lowest Daily Average: {np.min(np.mean(temperature_data, axis=1)):.2f}°C\")"
   ]
  },
  {
   "cell_type": "code",
   "execution_count": 287,
   "id": "f86930f9",
   "metadata": {},
   "outputs": [
    {
     "name": "stdout",
     "output_type": "stream",
     "text": [
      "      Name  Age  Salary\n",
      "0    Alice   25   50000\n",
      "1      Bob   30   60000\n",
      "2  Charlie   35   75000\n",
      "3    Diana   28   55000\n",
      "0    False\n",
      "1     True\n",
      "2     True\n",
      "3    False\n",
      "Name: Age, dtype: bool\n",
      "      Name  Age  Salary\n",
      "1      Bob   30   60000\n",
      "2  Charlie   35   75000\n",
      "  Name  Age  Salary\n",
      "1  Bob   30   60000\n",
      "      Name  Age\n",
      "1      Bob   30\n",
      "2  Charlie   35\n",
      "      Name  Age  Salary\n",
      "1      Bob   30   60000\n",
      "2  Charlie   35   75000\n"
     ]
    }
   ],
   "source": [
    "import pandas as pd\n",
    "\n",
    "df = pd.DataFrame({\n",
    "    'Name': ['Alice', 'Bob', 'Charlie', 'Diana'],\n",
    "    'Age': [25, 30, 35, 28],\n",
    "    'Salary': [50000, 60000, 75000, 55000]\n",
    "})\n",
    "print(df)\n",
    "# Filter employees older than 28\n",
    "filtered = df[df['Age'] > 28]\n",
    "print(df.Age>28)\n",
    "print(df.loc[df.Age>28])\n",
    "print(df.iloc[1:2])\n",
    "print(df.iloc[1:3, 0:2])\n",
    "print(filtered)"
   ]
  },
  {
   "cell_type": "code",
   "execution_count": 294,
   "id": "a5acbdd9",
   "metadata": {},
   "outputs": [
    {
     "name": "stdout",
     "output_type": "stream",
     "text": [
      "Name\n",
      "Alice      1\n",
      "Bob        1\n",
      "Charlie    1\n",
      "Diana      1\n",
      "Name: Age, dtype: int64\n"
     ]
    }
   ],
   "source": [
    "# Group by age ranges and calculate average salary\n",
    "#df['Age_Group'] = pd.cut(df['Age'], bins=[20, 30, 40])\n",
    "grouped = df.groupby('Age')['Salary'].mean()\n",
    "grouped=df.groupby(\"Name\")[\"Age\"].count()\n",
    "print(grouped)"
   ]
  },
  {
   "cell_type": "code",
   "execution_count": 296,
   "id": "af97e504",
   "metadata": {},
   "outputs": [
    {
     "name": "stdout",
     "output_type": "stream",
     "text": [
      "   ID   Name Department\n",
      "0   1  Alice         HR\n",
      "1   2    Bob         IT\n",
      "   ID   Name Department City\n",
      "0   1  Alice         HR   Ny\n",
      "1   2    Bob         IT   Uk\n"
     ]
    }
   ],
   "source": [
    "df1 = pd.DataFrame({'ID': [1, 2], 'Name': ['Alice', 'Bob']})\n",
    "df2 = pd.DataFrame({'ID': [1, 2], 'Department': ['HR', 'IT']})\n",
    "df3=pd.DataFrame({'ID':[1,2],'City':['Ny','Uk']})\n",
    "\n",
    "merged = pd.merge(df1, df2, on='ID')\n",
    "print(merged)\n",
    "mergedd1=pd.merge(merged,df3,on=\"ID\")\n",
    "print(mergedd1)"
   ]
  },
  {
   "cell_type": "code",
   "execution_count": 297,
   "id": "e63ead7f",
   "metadata": {},
   "outputs": [
    {
     "name": "stdout",
     "output_type": "stream",
     "text": [
      "=== COMPANY SALES ANALYSIS ===\n",
      "Month  Sales (₹000s)\n",
      "--------------------\n",
      "Jan    120         \n",
      "Feb    150         \n",
      "Mar    130         \n",
      "Apr    140         \n",
      "May    160         \n",
      "Jun    180         \n",
      "Jul    200         \n",
      "Aug    190         \n",
      "Sep    170         \n",
      "Oct    160         \n",
      "Nov    150         \n",
      "Dec    140         \n",
      "--------------------\n",
      "Total Annual Sales: ₹1,890,000.00\n",
      "Average Monthly Sales: ₹157,500.00\n",
      "Highest Sales Month: Jul (₹200,000.00)\n",
      "\n",
      "Quarterly Sales: [400 480 560 450]\n",
      "\n",
      "==================================================\n",
      "2D ARRAY OPERATIONS WITH NUMPY\n",
      "Original 2D Array:\n",
      "[[ 5 12  8 15  3]\n",
      " [20  7 25  9 18]\n",
      " [ 6 14 10 22  4]]\n",
      "\n",
      "Sum of elements > 10 in each row:\n",
      "Row 1: 27\n",
      "Row 2: 63\n",
      "Row 3: 36\n",
      "\n",
      "Using Boolean Indexing:\n",
      "Row 1: Elements > 10 = [12 15], Sum = 27\n",
      "Row 2: Elements > 10 = [20 25 18], Sum = 63\n",
      "Row 3: Elements > 10 = [14 22], Sum = 36\n"
     ]
    }
   ],
   "source": [
    "import numpy as np\n",
    "\n",
    "def analyze_sales_data():\n",
    "    # Monthly sales data for a year (in thousands)\n",
    "    monthly_sales = np.array([120, 150, 130, 140, 160, 180, \n",
    "                             200, 190, 170, 160, 150, 140])\n",
    "    \n",
    "    months = ['Jan', 'Feb', 'Mar', 'Apr', 'May', 'Jun', \n",
    "              'Jul', 'Aug', 'Sep', 'Oct', 'Nov', 'Dec']\n",
    "    \n",
    "    # Calculations\n",
    "    total_annual_sales = np.sum(monthly_sales)\n",
    "    average_monthly_sales = np.mean(monthly_sales)\n",
    "    highest_sales_month = months[np.argmax(monthly_sales)]\n",
    "    highest_sales_value = np.max(monthly_sales)\n",
    "    \n",
    "    print(\"=== COMPANY SALES ANALYSIS ===\")\n",
    "    print(f\"{'Month':<6} {'Sales (₹000s)':<12}\")\n",
    "    print(\"-\" * 20)\n",
    "    \n",
    "    for month, sales in zip(months, monthly_sales):\n",
    "        print(f\"{month:<6} {sales:<12}\")\n",
    "    \n",
    "    print(\"-\" * 20)\n",
    "    print(f\"Total Annual Sales: ₹{total_annual_sales * 1000:,.2f}\")\n",
    "    print(f\"Average Monthly Sales: ₹{average_monthly_sales * 1000:,.2f}\")\n",
    "    print(f\"Highest Sales Month: {highest_sales_month} (₹{highest_sales_value * 1000:,.2f})\")\n",
    "    \n",
    "    # Bonus: Quarterly analysis\n",
    "    quarterly_sales = monthly_sales.reshape(4, 3).sum(axis=1)\n",
    "    print(f\"\\nQuarterly Sales: {quarterly_sales}\")\n",
    "    \n",
    "    return monthly_sales\n",
    "\n",
    "# Execute analysis\n",
    "sales_data = analyze_sales_data()\n",
    "\n",
    "# Additional task: 2D array operations\n",
    "print(\"\\n\" + \"=\"*50)\n",
    "print(\"2D ARRAY OPERATIONS WITH NUMPY\")\n",
    "\n",
    "# Create 2D array from list of lists\n",
    "data_2d = np.array([\n",
    "    [5, 12, 8, 15, 3],\n",
    "    [20, 7, 25, 9, 18],\n",
    "    [6, 14, 10, 22, 4]\n",
    "])\n",
    "\n",
    "print(\"Original 2D Array:\")\n",
    "print(data_2d)\n",
    "\n",
    "# Find sum of elements > 10 in each row\n",
    "row_sums_gt_10 = np.sum(np.where(data_2d > 10, data_2d, 0), axis=1)\n",
    "\n",
    "print(\"\\nSum of elements > 10 in each row:\")\n",
    "for i, row_sum in enumerate(row_sums_gt_10):\n",
    "    print(f\"Row {i+1}: {row_sum}\")\n",
    "\n",
    "# Using boolean indexing\n",
    "print(\"\\nUsing Boolean Indexing:\")\n",
    "for i in range(data_2d.shape[0]):\n",
    "    row = data_2d[i]\n",
    "    elements_gt_10 = row[row > 10]\n",
    "    sum_gt_10 = np.sum(elements_gt_10)\n",
    "    print(f\"Row {i+1}: Elements > 10 = {elements_gt_10}, Sum = {sum_gt_10}\")"
   ]
  },
  {
   "cell_type": "code",
   "execution_count": 298,
   "id": "94d8b420",
   "metadata": {},
   "outputs": [
    {
     "name": "stdout",
     "output_type": "stream",
     "text": [
      "Statistical Summary:\n",
      "                mean        std  count\n",
      "Category                              \n",
      "A         106.720917  10.845125     10\n",
      "B          88.140126  11.329871     10\n",
      "C          96.672347  12.208467     10\n"
     ]
    },
    {
     "data": {
      "image/png": "[encoded data removed]",
      "text/plain": [
       "<Figure size 1000x600 with 1 Axes>"
      ]
     },
     "metadata": {},
     "output_type": "display_data"
    }
   ],
   "source": [
    "import pandas as pd\n",
    "import numpy as np\n",
    "import matplotlib.pyplot as plt\n",
    "\n",
    "# Using all three libraries together\n",
    "def comprehensive_analysis():\n",
    "    # Create sample data using NumPy\n",
    "    np.random.seed(42)\n",
    "    data = {\n",
    "        'Category': np.repeat(['A', 'B', 'C'], 10),\n",
    "        'Values': np.random.normal(100, 15, 30)\n",
    "    }\n",
    "    \n",
    "    # Create DataFrame using Pandas\n",
    "    df = pd.DataFrame(data)\n",
    "    \n",
    "    # Data analysis using Pandas\n",
    "    summary = df.groupby('Category')['Values'].agg(['mean', 'std', 'count'])\n",
    "    print(\"Statistical Summary:\")\n",
    "    print(summary)\n",
    "    \n",
    "    # Visualization using Matplotlib\n",
    "    plt.figure(figsize=(10, 6))\n",
    "    \n",
    "    for category in df['Category'].unique():\n",
    "        category_data = df[df['Category'] == category]['Values']\n",
    "        plt.hist(category_data, alpha=0.7, label=f'Category {category}')\n",
    "    \n",
    "    plt.xlabel('Values')\n",
    "    plt.ylabel('Frequency')\n",
    "    plt.title('Distribution by Category')\n",
    "    plt.legend()\n",
    "    plt.grid(alpha=0.3)\n",
    "    plt.show()\n",
    "\n",
    "comprehensive_analysis()"
   ]
  },
  {
   "cell_type": "code",
   "execution_count": 299,
   "id": "ae450ee0",
   "metadata": {},
   "outputs": [
    {
     "name": "stdout",
     "output_type": "stream",
     "text": [
      "Original 1D Array:\n",
      "[ 1  2  3  4  5  6  7  8  9 10 11 12 13 14 15]\n",
      "\n",
      "Reshaped 3x5 Matrix:\n",
      "[[ 1  2  3  4  5]\n",
      " [ 6  7  8  9 10]\n",
      " [11 12 13 14 15]]\n",
      "\n",
      "Median of each row:\n",
      "Row 1: 3.0\n",
      "Row 2: 8.0\n",
      "Row 3: 13.0\n",
      "\n",
      "Additional Statistics:\n",
      "Overall mean: 8.00\n",
      "Column means: [ 6.  7.  8.  9. 10.]\n",
      "Row means: [ 3.  8. 13.]\n",
      "Standard deviation: 4.32\n",
      "\n",
      "Other Reshaping Possibilities:\n",
      "5x3 reshape:\n",
      "[[ 1  2  3]\n",
      " [ 4  5  6]\n",
      " [ 7  8  9]\n",
      " [10 11 12]\n",
      " [13 14 15]]\n"
     ]
    }
   ],
   "source": [
    "import numpy as np\n",
    "\n",
    "# Create array with 15 elements\n",
    "arr = np.arange(1, 16)  # [1, 2, 3, ..., 15]\n",
    "print(\"Original 1D Array:\")\n",
    "print(arr)\n",
    "\n",
    "# Reshape into 3x5 matrix\n",
    "arr_2d = arr.reshape(3, 5)\n",
    "print(\"\\nReshaped 3x5 Matrix:\")\n",
    "print(arr_2d)\n",
    "\n",
    "# Compute median of each row\n",
    "row_medians = np.median(arr_2d, axis=1)\n",
    "print(\"\\nMedian of each row:\")\n",
    "for i, median in enumerate(row_medians):\n",
    "    print(f\"Row {i+1}: {median}\")\n",
    "\n",
    "# Additional statistical measures\n",
    "print(\"\\nAdditional Statistics:\")\n",
    "print(f\"Overall mean: {np.mean(arr_2d):.2f}\")\n",
    "print(f\"Column means: {np.mean(arr_2d, axis=0)}\")\n",
    "print(f\"Row means: {np.mean(arr_2d, axis=1)}\")\n",
    "print(f\"Standard deviation: {np.std(arr_2d):.2f}\")\n",
    "\n",
    "# Demonstrate different reshaping options\n",
    "print(\"\\nOther Reshaping Possibilities:\")\n",
    "print(\"5x3 reshape:\")\n",
    "print(arr.reshape(5, 3))"
   ]
  },
  {
   "cell_type": "code",
   "execution_count": 300,
   "id": "22260486",
   "metadata": {},
   "outputs": [
    {
     "name": "stdout",
     "output_type": "stream",
     "text": [
      "Original DataFrame:\n",
      "         Product     Category  Price  Quantity Region\n",
      "P001      Laptop  Electronics   1200        10  North\n",
      "P002      Tablet  Electronics    500        25  South\n",
      "P003       Phone  Electronics    800        30   East\n",
      "P004  Headphones  Accessories    150        50   West\n",
      "P005     Monitor  Electronics    300        15  North\n",
      "P006    Keyboard  Accessories     50        40  South\n",
      "\n",
      "1. SLICING OPERATIONS:\n",
      "Rows P002 to P004:\n",
      "          Product     Category  Price  Quantity Region\n",
      "P002      Tablet  Electronics    500        25  South\n",
      "P003       Phone  Electronics    800        30   East\n",
      "P004  Headphones  Accessories    150        50   West\n",
      "First 3 rows:\n",
      "      Product     Category  Price  Quantity Region\n",
      "P001  Laptop  Electronics   1200        10  North\n",
      "P002  Tablet  Electronics    500        25  South\n",
      "P003   Phone  Electronics    800        30   East\n",
      "Columns 1 to 3:\n",
      "          Category  Price\n",
      "P001  Electronics   1200\n",
      "P002  Electronics    500\n",
      "P003  Electronics    800\n",
      "P004  Accessories    150\n",
      "P005  Electronics    300\n",
      "P006  Accessories     50\n",
      "\n",
      "2. DICING OPERATIONS:\n",
      "Specific rows and columns:\n",
      "       Product  Price\n",
      "P001   Laptop   1200\n",
      "P003    Phone    800\n",
      "P005  Monitor    300\n",
      "Every other row:\n",
      "       Product     Category  Price  Quantity Region\n",
      "P001   Laptop  Electronics   1200        10  North\n",
      "P003    Phone  Electronics    800        30   East\n",
      "P005  Monitor  Electronics    300        15  North\n",
      "\n",
      "3. BOOLEAN SLICING:\n",
      "Electronics products:\n",
      "       Product     Category  Price  Quantity Region\n",
      "P001   Laptop  Electronics   1200        10  North\n",
      "P002   Tablet  Electronics    500        25  South\n",
      "P003    Phone  Electronics    800        30   East\n",
      "P005  Monitor  Electronics    300        15  North\n",
      "High price items (>500):\n",
      "      Product     Category  Price  Quantity Region\n",
      "P001  Laptop  Electronics   1200        10  North\n",
      "P003   Phone  Electronics    800        30   East\n",
      "\n",
      "4. MULTI-LEVEL SLICING:\n",
      "Electronics in North region:\n",
      "       Product     Category  Price  Quantity Region\n",
      "P001   Laptop  Electronics   1200        10  North\n",
      "P005  Monitor  Electronics    300        15  North\n",
      "\n",
      "DataFrame with Total Value:\n",
      "         Product     Category  Price  Quantity Region  Total_Value\n",
      "P001      Laptop  Electronics   1200        10  North        12000\n",
      "P002      Tablet  Electronics    500        25  South        12500\n",
      "P003       Phone  Electronics    800        30   East        24000\n",
      "P004  Headphones  Accessories    150        50   West         7500\n",
      "P005     Monitor  Electronics    300        15  North         4500\n",
      "P006    Keyboard  Accessories     50        40  South         2000\n"
     ]
    }
   ],
   "source": [
    "import pandas as pd\n",
    "import numpy as np\n",
    "\n",
    "# Create sample DataFrame\n",
    "data = {\n",
    "    'Product': ['Laptop', 'Tablet', 'Phone', 'Headphones', 'Monitor', 'Keyboard'],\n",
    "    'Category': ['Electronics', 'Electronics', 'Electronics', 'Accessories', 'Electronics', 'Accessories'],\n",
    "    'Price': [1200, 500, 800, 150, 300, 50],\n",
    "    'Quantity': [10, 25, 30, 50, 15, 40],\n",
    "    'Region': ['North', 'South', 'East', 'West', 'North', 'South']\n",
    "}\n",
    "\n",
    "df = pd.DataFrame(data)\n",
    "df.index = ['P001', 'P002', 'P003', 'P004', 'P005', 'P006']\n",
    "print(\"Original DataFrame:\")\n",
    "print(df)\n",
    "\n",
    "# 1. Slicing - Selecting ranges of data\n",
    "print(\"\\n1. SLICING OPERATIONS:\")\n",
    "print(\"Rows P002 to P004:\\n\", df.loc['P002':'P004'])\n",
    "print(\"First 3 rows:\\n\", df.iloc[:3])\n",
    "print(\"Columns 1 to 3:\\n\", df.iloc[:, 1:3])\n",
    "\n",
    "# 2. Dicing - Selecting specific rows and columns\n",
    "print(\"\\n2. DICING OPERATIONS:\")\n",
    "print(\"Specific rows and columns:\\n\", df.loc[['P001', 'P003', 'P005'], ['Product', 'Price']])\n",
    "print(\"Every other row:\\n\", df.iloc[::2])\n",
    "\n",
    "# 3. Boolean slicing\n",
    "print(\"\\n3. BOOLEAN SLICING:\")\n",
    "print(\"Electronics products:\\n\", df[df['Category'] == 'Electronics'])\n",
    "print(\"High price items (>500):\\n\", df[df['Price'] > 500])\n",
    "\n",
    "# 4. Multi-level slicing\n",
    "print(\"\\n4. MULTI-LEVEL SLICING:\")\n",
    "electronics_north = df[(df['Category'] == 'Electronics') & (df['Region'] == 'North')]\n",
    "print(\"Electronics in North region:\\n\", electronics_north)\n",
    "\n",
    "# 5. Column operations\n",
    "df['Total_Value'] = df['Price'] * df['Quantity']\n",
    "print(\"\\nDataFrame with Total Value:\")\n",
    "print(df)"
   ]
  },
  {
   "cell_type": "code",
   "execution_count": 301,
   "id": "059fdb78",
   "metadata": {},
   "outputs": [
    {
     "name": "stdout",
     "output_type": "stream",
     "text": [
      "Series 1:\n",
      "A    10\n",
      "B    20\n",
      "C    30\n",
      "dtype: int64\n",
      "\n",
      "Series 2:\n",
      "D    40\n",
      "E    50\n",
      "F    60\n",
      "dtype: int64\n",
      "\n",
      "Concatenation along axis=0 (row-wise):\n",
      "A    10\n",
      "B    20\n",
      "C    30\n",
      "D    40\n",
      "E    50\n",
      "F    60\n",
      "dtype: int64\n",
      "\n",
      "Concatenation along axis=1 (column-wise):\n",
      "      0     1\n",
      "A  10.0   NaN\n",
      "B  20.0   NaN\n",
      "C  30.0   NaN\n",
      "D   NaN  40.0\n",
      "E   NaN  50.0\n",
      "F   NaN  60.0\n",
      "\n",
      "Series 3:\n",
      "A    100\n",
      "B    200\n",
      "C    300\n",
      "dtype: int64\n",
      "\n",
      "Series 4:\n",
      "B    400\n",
      "C    500\n",
      "dtype: int64\n",
      "\n",
      "Concatenation with overlapping indices:\n",
      "   Data1  Data2\n",
      "A    100    NaN\n",
      "B    200  400.0\n",
      "C    300  500.0\n",
      "\n",
      "==================================================\n",
      "AXIS PARAMETER EXPLANATION:\n",
      "axis=0: Stack vertically (add rows)\n",
      "axis=1: Stack horizontally (add columns)\n"
     ]
    }
   ],
   "source": [
    "import pandas as pd\n",
    "\n",
    "# Create two Series with different indices\n",
    "series1 = pd.Series([10, 20, 30], index=['A', 'B', 'C'])\n",
    "series2 = pd.Series([40, 50, 60], index=['D', 'E', 'F'])\n",
    "\n",
    "print(\"Series 1:\")\n",
    "print(series1)\n",
    "print(\"\\nSeries 2:\")\n",
    "print(series2)\n",
    "\n",
    "# Concatenate along axis=0 (default - row-wise)\n",
    "result_axis0 = pd.concat([series1, series2], axis=0)\n",
    "print(\"\\nConcatenation along axis=0 (row-wise):\")\n",
    "print(result_axis0)\n",
    "\n",
    "# Concatenate along axis=1 (column-wise)\n",
    "result_axis1 = pd.concat([series1, series2], axis=1)\n",
    "print(\"\\nConcatenation along axis=1 (column-wise):\")\n",
    "print(result_axis1)\n",
    "\n",
    "# Series with overlapping indices\n",
    "series3 = pd.Series([100, 200, 300], index=['A', 'B', 'C'])\n",
    "series4 = pd.Series([400, 500], index=['B', 'C'])\n",
    "\n",
    "print(\"\\nSeries 3:\")\n",
    "print(series3)\n",
    "print(\"\\nSeries 4:\")\n",
    "print(series4)\n",
    "\n",
    "# Concatenate with overlapping indices\n",
    "result_overlap = pd.concat([series3, series4], axis=1, keys=['Data1', 'Data2'])\n",
    "print(\"\\nConcatenation with overlapping indices:\")\n",
    "print(result_overlap)\n",
    "\n",
    "# Explanation of axis parameter:\n",
    "print(\"\\n\" + \"=\"*50)\n",
    "print(\"AXIS PARAMETER EXPLANATION:\")\n",
    "print(\"axis=0: Stack vertically (add rows)\")\n",
    "print(\"axis=1: Stack horizontally (add columns)\")"
   ]
  }
 ],
 "metadata": {
  "kernelspec": {
   "display_name": "base",
   "language": "python",
   "name": "python3"
  },
  "language_info": {
   "codemirror_mode": {
    "name": "ipython",
    "version": 3
   },
   "file_extension": ".py",
   "mimetype": "text/x-python",
   "name": "python",
   "nbconvert_exporter": "python",
   "pygments_lexer": "ipython3",
   "version": "3.12.7"
  }
 },
 "nbformat": 4,
 "nbformat_minor": 5
}
